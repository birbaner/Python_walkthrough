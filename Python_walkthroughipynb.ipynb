{
 "cells": [
  {
   "cell_type": "markdown",
   "metadata": {
    "id": "ly4laI7pfGJO"
   },
   "source": [
    "# **Assignment 1**\n",
    "The first assignment walks you through some elements of Python/Numpy. It is meant mostly to familiarize you with Jypyter notebooks. It includes cells for demonstration, leading to clearly-marked cells for questions.\n",
    "\n"
   ]
  },
  {
   "cell_type": "markdown",
   "metadata": {
    "id": "8owP8xk_yi6h"
   },
   "source": [
    "-----------------------"
   ]
  },
  {
   "cell_type": "markdown",
   "metadata": {
    "id": "r_tl0TKffGJP"
   },
   "source": [
    "### **Part 1: NumPy walk-through**\n",
    "\n",
    "Let's look at matrix D and how it is presented in Numpy\n",
    "\\begin{equation*}\n",
    "D =\n",
    "\\begin{pmatrix}\n",
    "1 & 2 & 5 & 12 \\\\\n",
    "5 & 9 & 7 & 4\\\\\n",
    "7 & 8 & 1 & 9\n",
    "\\end{pmatrix}\n",
    "\\end{equation*}"
   ]
  },
  {
   "cell_type": "code",
   "execution_count": 2,
   "metadata": {
    "colab": {
     "base_uri": "https://localhost:8080/"
    },
    "id": "ik4Gngp2fGJQ",
    "outputId": "40ab0563-0631-4db5-c0ce-03bfa8d29c13"
   },
   "outputs": [
    {
     "name": "stdout",
     "output_type": "stream",
     "text": [
      "This is how matrix D will be presented in Numpy:\n",
      "\n",
      " [[ 1.  2.  5. 12.]\n",
      " [ 5.  9.  7.  4.]\n",
      " [ 7.  8.  1.  9.]]\n",
      "\n",
      "**********************************************************************\n",
      "We just create a <class 'numpy.ndarray'>\n",
      "The shape of numpy array D is (3, 4) with 12 elements\n",
      "The dimension of D is 2\n",
      "**********************************************************************\n",
      "The data types of elements of D are float32,\n",
      "      which consumes 48 bytes\n",
      "**********************************************************************\n"
     ]
    }
   ],
   "source": [
    "import numpy as np\n",
    "\n",
    "#  The notation np.X invokes a function X from module np\n",
    "#    where np is an alias for numpy as note in line-1 above.\n",
    "\n",
    "D = np.array([[1,2,5,12],[5,9,7,4],[7,8,1,9]], dtype = np.float32)\n",
    "print('This is how matrix D will be presented in Numpy:\\n\\n {}\\n'.format(D))\n",
    "\n",
    "print('*'*70) # seperator\n",
    "\n",
    "# Example of describing D\n",
    "print('We just create a {}'.format(type(D)))\n",
    "print('The shape of numpy array D is {} with {} elements'.format(D.shape, D.size))\n",
    "print('The dimension of D is {}'.format(D.ndim))\n",
    "\n",
    "# Multi-line print out\n",
    "print('*'*70) # seperator\n",
    "\n",
    "print('''The data types of elements of D are {},\n",
    "      which consumes {} bytes'''.format(D.dtype, D.nbytes))\n",
    "\n",
    "print('*'*70) # seperator\n"
   ]
  },
  {
   "cell_type": "code",
   "execution_count": 3,
   "metadata": {
    "id": "oqhQyAZTfGJV"
   },
   "outputs": [],
   "source": [
    "# create a copy of D with integer type\n",
    "D_copy = np.array(D, dtype=np.int32)"
   ]
  },
  {
   "cell_type": "markdown",
   "metadata": {
    "id": "2XxgGLoIfGJY"
   },
   "source": [
    "#### 1. NumPy array operations"
   ]
  },
  {
   "cell_type": "code",
   "execution_count": 4,
   "metadata": {
    "colab": {
     "base_uri": "https://localhost:8080/"
    },
    "id": "scImnsyJfGJY",
    "outputId": "61ff20c9-1104-448c-b154-d18aea0a7c2a"
   },
   "outputs": [
    {
     "name": "stdout",
     "output_type": "stream",
     "text": [
      "The length of my_list is 4\n",
      "The appended list becomes [10.1, 2.3, -30, 10, 25]\n",
      "Data type of my_array is <class 'numpy.ndarray'>\n",
      "my_array is [ 10.1   2.3 -30.   10.   25. ]\n"
     ]
    }
   ],
   "source": [
    "# Define a list for representing the deposit/withdrawl transactions from Mon to Thu\n",
    "trans_list = [10.1, 2.3, -30, 10]\n",
    "\n",
    "# print the length of the trans_list\n",
    "print('The length of my_list is %d'%len(trans_list))\n",
    "\n",
    "# Append the transaction amount $25 to the end of trans_list\n",
    "trans_list.append(25)\n",
    "print('The appended list becomes {}'.format(trans_list))\n",
    "\n",
    "# Convert trans_list to a numpy array\n",
    "trans_array = np.array(trans_list)\n",
    "print('Data type of my_array is {}'.format(type(trans_array)))\n",
    "print('my_array is {}'.format(trans_array))"
   ]
  },
  {
   "cell_type": "code",
   "execution_count": 5,
   "metadata": {
    "colab": {
     "base_uri": "https://localhost:8080/"
    },
    "id": "mHPmhzdOfGJb",
    "outputId": "ab554709-3567-4301-d424-b3bffa23458c"
   },
   "outputs": [
    {
     "data": {
      "text/plain": [
       "array([ 14.1,   6.3, -26. ,  14. ,  29. ])"
      ]
     },
     "execution_count": 5,
     "metadata": {},
     "output_type": "execute_result"
    }
   ],
   "source": [
    "# adding $4 to each deposit/withdrawl transaction\n",
    "trans_array + 4"
   ]
  },
  {
   "cell_type": "code",
   "execution_count": 6,
   "metadata": {
    "colab": {
     "base_uri": "https://localhost:8080/"
    },
    "id": "RQAbwx5gfGJe",
    "outputId": "189d086a-6010-409f-b0f5-45ea8e69fbd0"
   },
   "outputs": [
    {
     "data": {
      "text/plain": [
       "array([  9.7,   1.9, -30.4,   9.6,  24.6])"
      ]
     },
     "execution_count": 6,
     "metadata": {},
     "output_type": "execute_result"
    }
   ],
   "source": [
    "# subtract 0.4 from each transaction\n",
    "trans_array - 0.4"
   ]
  },
  {
   "cell_type": "code",
   "execution_count": 7,
   "metadata": {
    "colab": {
     "base_uri": "https://localhost:8080/"
    },
    "id": "UaMikHWpfGJg",
    "outputId": "01176ead-18b9-4cdc-8fd7-cdbf21fe1469"
   },
   "outputs": [
    {
     "data": {
      "text/plain": [
       "array([ 20.2,   4.6, -60. ,  20. ,  50. ])"
      ]
     },
     "execution_count": 7,
     "metadata": {},
     "output_type": "execute_result"
    }
   ],
   "source": [
    "# double it up\n",
    "trans_array * 2"
   ]
  },
  {
   "cell_type": "code",
   "execution_count": 8,
   "metadata": {
    "colab": {
     "base_uri": "https://localhost:8080/"
    },
    "id": "Viiu3ePUfGJi",
    "outputId": "8e7c3424-f283-4cb6-a8d3-0d5ec3858583"
   },
   "outputs": [
    {
     "data": {
      "text/plain": [
       "array([ 2.02,  0.46, -6.  ,  2.  ,  5.  ])"
      ]
     },
     "execution_count": 8,
     "metadata": {},
     "output_type": "execute_result"
    }
   ],
   "source": [
    "# divide the amounts by 5\n",
    "trans_array / 5"
   ]
  },
  {
   "cell_type": "markdown",
   "metadata": {
    "id": "oGZMC38NfGJl"
   },
   "source": [
    "Note: You can't do the above operation with list. You will have to iterate the list's elements. For example"
   ]
  },
  {
   "cell_type": "code",
   "execution_count": 9,
   "metadata": {
    "colab": {
     "base_uri": "https://localhost:8080/"
    },
    "id": "u6EM8P58fGJl",
    "outputId": "d7880de4-fb99-464c-9a5f-2072ed572373"
   },
   "outputs": [
    {
     "data": {
      "text/plain": [
       "[14.1, 6.3, -26, 14, 29]"
      ]
     },
     "execution_count": 9,
     "metadata": {},
     "output_type": "execute_result"
    }
   ],
   "source": [
    "# to add $4 to each transaction with trans_list, we must use list comprehension.\n",
    "[x + 4 for x in trans_list]"
   ]
  },
  {
   "cell_type": "code",
   "execution_count": 10,
   "metadata": {
    "colab": {
     "base_uri": "https://localhost:8080/"
    },
    "id": "eYGHGQRhfGJo",
    "outputId": "2f3ba488-0173-4e57-9136-b5734f0b3f4e"
   },
   "outputs": [
    {
     "data": {
      "text/plain": [
       "array([1., 1., 1., 1., 1., 1., 1., 1.])"
      ]
     },
     "execution_count": 10,
     "metadata": {},
     "output_type": "execute_result"
    }
   ],
   "source": [
    "# create a one-dimensional array containing 8 ones\n",
    "np.ones(8)"
   ]
  },
  {
   "cell_type": "code",
   "execution_count": 11,
   "metadata": {
    "colab": {
     "base_uri": "https://localhost:8080/"
    },
    "id": "zU9DzeFtfGJr",
    "outputId": "8e8ad09d-d8da-405a-cd87-939db4074b76"
   },
   "outputs": [
    {
     "data": {
      "text/plain": [
       "array([[1., 0., 0., 0., 0.],\n",
       "       [0., 1., 0., 0., 0.],\n",
       "       [0., 0., 1., 0., 0.],\n",
       "       [0., 0., 0., 1., 0.],\n",
       "       [0., 0., 0., 0., 1.]])"
      ]
     },
     "execution_count": 11,
     "metadata": {},
     "output_type": "execute_result"
    }
   ],
   "source": [
    "# create an identity matrix of size 5*5\n",
    "np.identity(5)"
   ]
  },
  {
   "cell_type": "code",
   "execution_count": 12,
   "metadata": {
    "colab": {
     "base_uri": "https://localhost:8080/"
    },
    "id": "bzyiFkjpfGJt",
    "outputId": "ca6b6ae1-756a-41e1-88b9-1b65877de647"
   },
   "outputs": [
    {
     "data": {
      "text/plain": [
       "array([ 3,  6,  9, 12, 15, 18])"
      ]
     },
     "execution_count": 12,
     "metadata": {},
     "output_type": "execute_result"
    }
   ],
   "source": [
    "# create an array size 1 x 6 including only odd number starting from 3\n",
    "x = np.arange(3,20,3)\n",
    "x"
   ]
  },
  {
   "cell_type": "code",
   "execution_count": 13,
   "metadata": {
    "colab": {
     "base_uri": "https://localhost:8080/"
    },
    "id": "Fi7yU_v3fGJw",
    "outputId": "acc408f0-2148-49a6-a47a-9b0a46e2c38e"
   },
   "outputs": [
    {
     "data": {
      "text/plain": [
       "array([[ 3,  6,  9],\n",
       "       [12, 15, 18]])"
      ]
     },
     "execution_count": 13,
     "metadata": {},
     "output_type": "execute_result"
    }
   ],
   "source": [
    "# reshape x to size 2 x 3 we get the following matrix\n",
    "\n",
    "# Variables in Python (an numpy) are objects.\n",
    "# Each object contains data (like x does), but it is also associated\n",
    "# with methods, i.e. python functions that can apply to it.\n",
    "# When we apply such an operation, we use the notation x.fname, like\n",
    "# below.\n",
    "\n",
    "x = x.reshape(2,3)\n",
    "x"
   ]
  },
  {
   "cell_type": "code",
   "execution_count": 14,
   "metadata": {
    "id": "lhwnA49lfGJy"
   },
   "outputs": [],
   "source": [
    "# transpose x\n",
    "y = x.T"
   ]
  },
  {
   "cell_type": "code",
   "execution_count": 15,
   "metadata": {
    "colab": {
     "base_uri": "https://localhost:8080/"
    },
    "id": "-34yj_jDfGJ0",
    "outputId": "5bf1a3cd-5679-4c73-93ab-c1d3d3c48fef"
   },
   "outputs": [
    {
     "data": {
      "text/plain": [
       "False"
      ]
     },
     "execution_count": 15,
     "metadata": {},
     "output_type": "execute_result"
    }
   ],
   "source": [
    "# compare two arrays\n",
    "np.array_equal(x,y)"
   ]
  },
  {
   "cell_type": "code",
   "execution_count": 16,
   "metadata": {
    "colab": {
     "base_uri": "https://localhost:8080/"
    },
    "id": "Akbw9C1PfGJ2",
    "outputId": "ed961608-6f7b-4bab-eba5-6dd355ff4e50"
   },
   "outputs": [
    {
     "data": {
      "text/plain": [
       "array([[ True,  True,  True],\n",
       "       [ True,  True,  True]])"
      ]
     },
     "execution_count": 16,
     "metadata": {},
     "output_type": "execute_result"
    }
   ],
   "source": [
    "x == y.T"
   ]
  },
  {
   "cell_type": "code",
   "execution_count": 17,
   "metadata": {
    "colab": {
     "base_uri": "https://localhost:8080/"
    },
    "id": "PjbS0Y8zfGJ5",
    "outputId": "8ed77336-0cea-4070-e333-abab6832dfc4"
   },
   "outputs": [
    {
     "data": {
      "text/plain": [
       "True"
      ]
     },
     "execution_count": 17,
     "metadata": {},
     "output_type": "execute_result"
    }
   ],
   "source": [
    "np.array_equal(x,y.T)"
   ]
  },
  {
   "cell_type": "code",
   "execution_count": 18,
   "metadata": {
    "colab": {
     "base_uri": "https://localhost:8080/"
    },
    "id": "vC29JsRAfGJ7",
    "outputId": "ff4c31e1-d7a2-41b9-df4d-5ccc328a2bae"
   },
   "outputs": [
    {
     "data": {
      "text/plain": [
       "array([[False, False, False],\n",
       "       [False, False, False]])"
      ]
     },
     "execution_count": 18,
     "metadata": {},
     "output_type": "execute_result"
    }
   ],
   "source": [
    "x < y.T"
   ]
  },
  {
   "cell_type": "code",
   "execution_count": 19,
   "metadata": {
    "colab": {
     "base_uri": "https://localhost:8080/"
    },
    "id": "9CumfUaRfGJ9",
    "outputId": "9f664d9a-19a3-45ca-fb37-83a4e8591542"
   },
   "outputs": [
    {
     "data": {
      "text/plain": [
       "array([[1., 1., 1.],\n",
       "       [1., 1., 1.],\n",
       "       [1., 1., 1.]])"
      ]
     },
     "execution_count": 19,
     "metadata": {},
     "output_type": "execute_result"
    }
   ],
   "source": [
    "c = np.ones((3,3))\n",
    "c"
   ]
  },
  {
   "cell_type": "code",
   "execution_count": 20,
   "metadata": {
    "colab": {
     "base_uri": "https://localhost:8080/"
    },
    "id": "8sXMycSpfGJ_",
    "outputId": "60855cb6-f69e-4375-9fa0-cd9b85305814"
   },
   "outputs": [
    {
     "data": {
      "text/plain": [
       "array([[3., 3., 3.],\n",
       "       [3., 3., 3.],\n",
       "       [3., 3., 3.]])"
      ]
     },
     "execution_count": 20,
     "metadata": {},
     "output_type": "execute_result"
    }
   ],
   "source": [
    "# dot product of two matrices\n",
    "np.dot(c,c)\n",
    "\n",
    "# or\n",
    "np.matmul(c,c)"
   ]
  },
  {
   "cell_type": "code",
   "execution_count": 21,
   "metadata": {
    "colab": {
     "base_uri": "https://localhost:8080/"
    },
    "id": "phRTWOZwfGKB",
    "outputId": "7c6abe69-7631-4c5f-ef97-5e63cec7586e"
   },
   "outputs": [
    {
     "data": {
      "text/plain": [
       "array([[ 0,  1,  2,  3,  4],\n",
       "       [ 5,  6,  7,  8,  9],\n",
       "       [ 0,  1,  2,  3,  4],\n",
       "       [ 5,  6,  7,  8,  9],\n",
       "       [10, 11, 12, 13, 14]])"
      ]
     },
     "execution_count": 21,
     "metadata": {},
     "output_type": "execute_result"
    }
   ],
   "source": [
    "# stacking/merging two multidimensional arrays\n",
    "x = np.arange(10).reshape(2,5)\n",
    "y = np.arange(15).reshape(3,5)\n",
    "z = np.vstack((x,y))\n",
    "z"
   ]
  },
  {
   "cell_type": "code",
   "execution_count": 22,
   "metadata": {
    "colab": {
     "base_uri": "https://localhost:8080/"
    },
    "id": "pwX_qhk4fGKD",
    "outputId": "9963a9cd-d248-4ca4-cb2f-57ca071b25b4"
   },
   "outputs": [
    {
     "data": {
      "text/plain": [
       "array([[ 0,  1,  0,  1,  2],\n",
       "       [ 2,  3,  3,  4,  5],\n",
       "       [ 4,  5,  6,  7,  8],\n",
       "       [ 6,  7,  9, 10, 11],\n",
       "       [ 8,  9, 12, 13, 14]])"
      ]
     },
     "execution_count": 22,
     "metadata": {},
     "output_type": "execute_result"
    }
   ],
   "source": [
    "x = np.arange(10).reshape(5,2)\n",
    "y = np.arange(15).reshape(5,3)\n",
    "z = np.hstack((x,y))\n",
    "z"
   ]
  },
  {
   "cell_type": "code",
   "execution_count": 23,
   "metadata": {
    "colab": {
     "base_uri": "https://localhost:8080/"
    },
    "id": "YCiyIn78fGKF",
    "outputId": "e66b06fe-c2db-4c88-f236-1f5bd49adc38"
   },
   "outputs": [
    {
     "data": {
      "text/plain": [
       "DescribeResult(nobs=5, minmax=(array([0, 1, 0, 1, 2]), array([ 8,  9, 12, 13, 14])), mean=array([4., 5., 6., 7., 8.]), variance=array([10. , 10. , 22.5, 22.5, 22.5]), skewness=array([0., 0., 0., 0., 0.]), kurtosis=array([-1.3, -1.3, -1.3, -1.3, -1.3]))"
      ]
     },
     "execution_count": 23,
     "metadata": {},
     "output_type": "execute_result"
    }
   ],
   "source": [
    "# checking statistics for xy\n",
    "from scipy import stats\n",
    "stats.describe(z)"
   ]
  },
  {
   "cell_type": "code",
   "execution_count": 24,
   "metadata": {
    "colab": {
     "base_uri": "https://localhost:8080/"
    },
    "id": "jhXIOt8dfGKH",
    "outputId": "fc10bf5e-deec-4ab1-c68a-37a29514718e"
   },
   "outputs": [
    {
     "name": "stdout",
     "output_type": "stream",
     "text": [
      "x:\n",
      " [[0.06680275 0.13162937 0.59451792]\n",
      " [0.4769244  0.05338446 0.1659253 ]\n",
      " [0.17993893 0.92880318 0.51637039]\n",
      " [0.95352642 0.05333775 0.65424232]\n",
      " [0.49172873 0.3909093  0.81404881]\n",
      " [0.68454628 0.19533495 0.82122334]\n",
      " [0.45125048 0.97045748 0.18767576]\n",
      " [0.74843464 0.87124648 0.60349426]\n",
      " [0.45877897 0.91483444 0.93565711]\n",
      " [0.58021389 0.35869943 0.57918492]\n",
      " [0.36570572 0.20226459 0.01099737]\n",
      " [0.08075701 0.12013135 0.85042261]\n",
      " [0.2087018  0.8548752  0.55165149]\n",
      " [0.35737036 0.10511113 0.18606253]\n",
      " [0.9914688  0.54379317 0.93855556]\n",
      " [0.94440511 0.15854364 0.52651635]\n",
      " [0.51790746 0.88012412 0.20243177]\n",
      " [0.19642274 0.29633301 0.08762667]\n",
      " [0.48033445 0.3720322  0.205609  ]\n",
      " [0.44652307 0.93495892 0.61906922]\n",
      " [0.93663561 0.64636235 0.81844344]\n",
      " [0.8639203  0.32391495 0.05307193]\n",
      " [0.20064799 0.83160127 0.02148603]\n",
      " [0.7532749  0.14161746 0.10206894]\n",
      " [0.37619992 0.47513782 0.42203139]\n",
      " [0.02308392 0.36361719 0.05147382]\n",
      " [0.90701901 0.84883948 0.52321876]\n",
      " [0.06453422 0.46100384 0.33551822]\n",
      " [0.35603553 0.51160174 0.98496236]\n",
      " [0.2507203  0.45354159 0.76793888]]\n",
      "\n",
      ",n:\n",
      " 30\n",
      "\n",
      ", min_max:\n",
      " (array([0.02308392, 0.05333775, 0.01099737]), array([0.9914688 , 0.97045748, 0.98496236]))\n",
      "\n",
      ", mean:\n",
      " [0.48046046 0.4798014  0.47104988]\n",
      "\n",
      "\n",
      ", var:\n",
      " [0.08906088 0.09733269 0.09901776]\n",
      "\n",
      ", skew:\n",
      " [0.2695184  0.26902995 0.00365888]\n",
      "\n",
      ", kurt:\n",
      " [-1.05061932 -1.35546086 -1.33395094]\n",
      "\n",
      "\n"
     ]
    }
   ],
   "source": [
    "# generate 30 random records, each has 3 features represented by some random number\n",
    "x = np.random.rand(30,3)\n",
    "\n",
    "# check statistics by feature for these records\n",
    "n, min_max, mean, var, skew, kurt = stats.describe(x)\n",
    "\n",
    "# observe the gather statistics\n",
    "print('''x:\\n {}\\n\\n,n:\\n {}\\n\\n, min_max:\\n {}\\n\\n, mean:\\n {}\\n\\n\n",
    ", var:\\n {}\\n\\n, skew:\\n {}\\n\\n, kurt:\\n {}\\n\\n'''.format(x, n, min_max, mean, var, skew, kurt))"
   ]
  },
  {
   "cell_type": "markdown",
   "metadata": {
    "id": "6icgEByffGKK"
   },
   "source": [
    "#### 2. Slice and dice matrix\n",
    "\n",
    "Take out 2 elements in the 1st row, 2nd column, and 3rd row, 3rd column of matrix D from above\n",
    "\n",
    "\\begin{equation*}\n",
    "D =\n",
    "\\begin{pmatrix}\n",
    "1 & 2 & 5 & 12 \\\\\n",
    "5 & 9 & 7 & 4\\\\\n",
    "7 & 8 & 1 & 9\n",
    "\\end{pmatrix}\n",
    "\\end{equation*}"
   ]
  },
  {
   "cell_type": "code",
   "execution_count": 25,
   "metadata": {
    "colab": {
     "base_uri": "https://localhost:8080/"
    },
    "id": "7R8ypS2zfGKN",
    "outputId": "7d7a2216-9fdd-4bf2-d36d-98b1fd3f4476"
   },
   "outputs": [
    {
     "data": {
      "text/plain": [
       "array([2., 1.], dtype=float32)"
      ]
     },
     "execution_count": 25,
     "metadata": {},
     "output_type": "execute_result"
    }
   ],
   "source": [
    "# numpy is indexed from 0. Slice by row and then by column\n",
    "D[[0,2],[1,2]]\n"
   ]
  },
  {
   "cell_type": "markdown",
   "metadata": {
    "id": "BfRzbPUXfGKQ"
   },
   "source": [
    "#### Resize and reshape matrix\n",
    "Matrix will be truncated or element values will be repeated if the reshape makes the matrix to be a bigger matrix."
   ]
  },
  {
   "cell_type": "code",
   "execution_count": 26,
   "metadata": {
    "colab": {
     "base_uri": "https://localhost:8080/"
    },
    "id": "_YNyARm1fGKQ",
    "outputId": "b97b1994-0d4b-4e15-c66c-4832ae54684e"
   },
   "outputs": [
    {
     "name": "stdout",
     "output_type": "stream",
     "text": [
      "[[1 2 3]\n",
      " [4 5 6]\n",
      " [7 8 9]]\n",
      "\n",
      "resize smaller\n",
      " [[1 2]\n",
      " [3 4]]\n",
      "\n",
      "resize bigger\n",
      " [[1 2 3 4]\n",
      " [5 6 7 8]\n",
      " [9 1 2 3]\n",
      " [4 5 6 7]]\n"
     ]
    }
   ],
   "source": [
    "x = (np.arange(9)+1).reshape(3,3)\n",
    "print(x)\n",
    "print('\\nresize smaller\\n {}'.format(np.resize(x,(2,2))))\n",
    "print('\\nresize bigger\\n {}'.format(np.resize(x,(4,4))))"
   ]
  },
  {
   "cell_type": "markdown",
   "metadata": {
    "id": "bdtCXeGxfGKS"
   },
   "source": [
    "#### Multiplying two matrices\n",
    "An 1-dimensional array is treated as a vector"
   ]
  },
  {
   "cell_type": "code",
   "execution_count": 27,
   "metadata": {
    "colab": {
     "base_uri": "https://localhost:8080/"
    },
    "id": "YOFS8ioofGKT",
    "outputId": "aa21c33d-2315-4743-d6a7-57a656dc7159"
   },
   "outputs": [
    {
     "data": {
      "text/plain": [
       "array([0, 1, 2, 3])"
      ]
     },
     "execution_count": 27,
     "metadata": {},
     "output_type": "execute_result"
    }
   ],
   "source": [
    "# a vector/array y\n",
    "y = np.arange(4)\n",
    "y\n"
   ]
  },
  {
   "cell_type": "code",
   "execution_count": 28,
   "metadata": {
    "colab": {
     "base_uri": "https://localhost:8080/"
    },
    "id": "mEWuYjlxfGKV",
    "outputId": "a08eca9b-1780-477d-c6c4-4c90096f831f"
   },
   "outputs": [
    {
     "data": {
      "text/plain": [
       "array([[3., 3., 3., 3.],\n",
       "       [3., 3., 3., 3.],\n",
       "       [3., 3., 3., 3.],\n",
       "       [3., 3., 3., 3.]])"
      ]
     },
     "execution_count": 28,
     "metadata": {},
     "output_type": "execute_result"
    }
   ],
   "source": [
    "# a matrix of ones\n",
    "x = np.ones(16).reshape(4,4) + 2\n",
    "x"
   ]
  },
  {
   "cell_type": "code",
   "execution_count": 29,
   "metadata": {
    "colab": {
     "base_uri": "https://localhost:8080/"
    },
    "id": "d0707PxPfGKX",
    "outputId": "8db7c0ad-d784-4d7b-dc75-d0de38931459"
   },
   "outputs": [
    {
     "data": {
      "text/plain": [
       "array([[0., 3., 6., 9.],\n",
       "       [0., 3., 6., 9.],\n",
       "       [0., 3., 6., 9.],\n",
       "       [0., 3., 6., 9.]])"
      ]
     },
     "execution_count": 29,
     "metadata": {},
     "output_type": "execute_result"
    }
   ],
   "source": [
    "x*y"
   ]
  },
  {
   "cell_type": "code",
   "execution_count": 30,
   "metadata": {
    "colab": {
     "base_uri": "https://localhost:8080/"
    },
    "id": "EJPYn6rEfGKZ",
    "outputId": "cbbcf597-8f5c-480c-d4ca-c68a521936d2"
   },
   "outputs": [
    {
     "data": {
      "text/plain": [
       "array([[0., 3., 6., 9.],\n",
       "       [0., 3., 6., 9.],\n",
       "       [0., 3., 6., 9.],\n",
       "       [0., 3., 6., 9.]])"
      ]
     },
     "execution_count": 30,
     "metadata": {},
     "output_type": "execute_result"
    }
   ],
   "source": [
    "x*y.T   # interpreted as x*(y.T)"
   ]
  },
  {
   "cell_type": "code",
   "execution_count": 31,
   "metadata": {
    "colab": {
     "base_uri": "https://localhost:8080/"
    },
    "id": "Tsl6MbI2fGKc",
    "outputId": "bcb43614-cdc5-4ec3-dea9-00c377a0e65f"
   },
   "outputs": [
    {
     "data": {
      "text/plain": [
       "array([[0., 3., 6., 9.],\n",
       "       [0., 3., 6., 9.],\n",
       "       [0., 3., 6., 9.],\n",
       "       [0., 3., 6., 9.]])"
      ]
     },
     "execution_count": 31,
     "metadata": {},
     "output_type": "execute_result"
    }
   ],
   "source": [
    "y*x"
   ]
  },
  {
   "cell_type": "code",
   "execution_count": 32,
   "metadata": {
    "colab": {
     "base_uri": "https://localhost:8080/"
    },
    "id": "fNTRR8DwfGKe",
    "outputId": "5c295166-72d1-4918-a3d8-7aa4f3364b7f"
   },
   "outputs": [
    {
     "data": {
      "text/plain": [
       "array([[0., 3., 6., 9.],\n",
       "       [0., 3., 6., 9.],\n",
       "       [0., 3., 6., 9.],\n",
       "       [0., 3., 6., 9.]])"
      ]
     },
     "execution_count": 32,
     "metadata": {},
     "output_type": "execute_result"
    }
   ],
   "source": [
    "y.T*x"
   ]
  },
  {
   "cell_type": "code",
   "execution_count": 33,
   "metadata": {
    "colab": {
     "base_uri": "https://localhost:8080/"
    },
    "id": "vi5kt5OufGKg",
    "outputId": "195f42d6-29fd-4df8-dc3e-b19004c8fe48"
   },
   "outputs": [
    {
     "name": "stdout",
     "output_type": "stream",
     "text": [
      "x:\n",
      "[[0 1]\n",
      " [2 3]]\n",
      "\n",
      "y1:\n",
      "[0 1]\n",
      "\n",
      "y2:\n",
      "[[0 1]]\n",
      "\n"
     ]
    }
   ],
   "source": [
    "x = np.arange(4).reshape(2,2)\n",
    "y1 = np.arange(2)\n",
    "y2 = np.arange(2).reshape(1,2) # y2 is the same as y1 in numpy.\n",
    "print('x:\\n{}\\n'.format(x))\n",
    "print('y1:\\n{}\\n'.format(y1))\n",
    "print('y2:\\n{}\\n'.format(y2))"
   ]
  },
  {
   "cell_type": "code",
   "execution_count": 34,
   "metadata": {
    "colab": {
     "base_uri": "https://localhost:8080/"
    },
    "id": "-1k0CFOIfGKi",
    "outputId": "980ce8b5-564b-4017-ebe6-5e860fce86a3"
   },
   "outputs": [
    {
     "data": {
      "text/plain": [
       "array([[0, 1],\n",
       "       [0, 3]])"
      ]
     },
     "execution_count": 34,
     "metadata": {},
     "output_type": "execute_result"
    }
   ],
   "source": [
    "x*y1"
   ]
  },
  {
   "cell_type": "code",
   "execution_count": 35,
   "metadata": {
    "colab": {
     "base_uri": "https://localhost:8080/"
    },
    "id": "EW90NQ6nfGKk",
    "outputId": "f6613f31-fd5d-400b-c61b-5911d3544d5c"
   },
   "outputs": [
    {
     "data": {
      "text/plain": [
       "array([[0, 1],\n",
       "       [0, 3]])"
      ]
     },
     "execution_count": 35,
     "metadata": {},
     "output_type": "execute_result"
    }
   ],
   "source": [
    "x*y2"
   ]
  },
  {
   "cell_type": "code",
   "execution_count": 36,
   "metadata": {
    "colab": {
     "base_uri": "https://localhost:8080/"
    },
    "id": "ban5G53YfGKm",
    "outputId": "19d45246-fbe5-4320-ae78-bb967a6545cc"
   },
   "outputs": [
    {
     "name": "stdout",
     "output_type": "stream",
     "text": [
      "[[0 1 2 3 4]\n",
      " [5 6 7 8 9]]\n",
      "\n",
      "[[ 0  1  2]\n",
      " [ 3  4  5]\n",
      " [ 6  7  8]\n",
      " [ 9 10 11]\n",
      " [12 13 14]]\n"
     ]
    }
   ],
   "source": [
    "# generate two matrices\n",
    "a = np.arange(10).reshape(2,5)\n",
    "b = np.arange(15).reshape(5,3)\n",
    "print(a)\n",
    "print()\n",
    "print(b)"
   ]
  },
  {
   "cell_type": "code",
   "execution_count": 37,
   "metadata": {
    "colab": {
     "base_uri": "https://localhost:8080/"
    },
    "id": "iXVjcn_ffGKp",
    "outputId": "fa892d93-df09-4210-d41f-4ec4414bf4b3"
   },
   "outputs": [
    {
     "data": {
      "text/plain": [
       "True"
      ]
     },
     "execution_count": 37,
     "metadata": {},
     "output_type": "execute_result"
    }
   ],
   "source": [
    "# check if operation $dot$ is equal to operation $matmul$\n",
    "np.array_equal(np.dot(a,b),np.matmul(a,b))"
   ]
  },
  {
   "cell_type": "code",
   "execution_count": 38,
   "metadata": {
    "colab": {
     "base_uri": "https://localhost:8080/"
    },
    "id": "M31vWN03fGKs",
    "outputId": "50d2aa44-78b7-4161-ee46-1153a13a2602"
   },
   "outputs": [
    {
     "data": {
      "text/plain": [
       "array([[ 90, 100, 110],\n",
       "       [240, 275, 310]])"
      ]
     },
     "execution_count": 38,
     "metadata": {},
     "output_type": "execute_result"
    }
   ],
   "source": [
    "# multiple a by b with matmul\n",
    "np.matmul(a,b)"
   ]
  },
  {
   "cell_type": "code",
   "execution_count": 39,
   "metadata": {
    "colab": {
     "base_uri": "https://localhost:8080/"
    },
    "id": "4jhyA0VYfGKv",
    "outputId": "81617890-e168-4ee7-d61b-f0f286b1deb8"
   },
   "outputs": [
    {
     "data": {
      "text/plain": [
       "array([[ 90, 100, 110],\n",
       "       [240, 275, 310]])"
      ]
     },
     "execution_count": 39,
     "metadata": {},
     "output_type": "execute_result"
    }
   ],
   "source": [
    "# multiply a by b with @\n",
    "a@b"
   ]
  },
  {
   "cell_type": "code",
   "execution_count": 40,
   "metadata": {
    "colab": {
     "base_uri": "https://localhost:8080/"
    },
    "id": "HbJu-_fLfGK0",
    "outputId": "7d91f3b8-a8ca-4236-f225-c78dad6d44a1"
   },
   "outputs": [
    {
     "name": "stdout",
     "output_type": "stream",
     "text": [
      "a: \n",
      " [[0 1 2]\n",
      " [3 4 5]\n",
      " [6 7 8]] \n",
      " \n",
      "  b: \n",
      " [0 1 2]\n"
     ]
    }
   ],
   "source": [
    "a = np.arange(9).reshape(3,3)\n",
    "b = np.arange(3)\n",
    "print('a: \\n {} \\n \\n  b: \\n {}'.format(a,b))"
   ]
  },
  {
   "cell_type": "code",
   "execution_count": 41,
   "metadata": {
    "colab": {
     "base_uri": "https://localhost:8080/"
    },
    "id": "2Cxjq5WFfGK4",
    "outputId": "bb745acc-5b7f-4a29-8b5c-962010eaaa66"
   },
   "outputs": [
    {
     "data": {
      "text/plain": [
       "array([ 5, 14, 23])"
      ]
     },
     "execution_count": 41,
     "metadata": {},
     "output_type": "execute_result"
    }
   ],
   "source": [
    "# inner product of 2 vectors\n",
    "np.inner(a,b)"
   ]
  },
  {
   "cell_type": "code",
   "execution_count": 42,
   "metadata": {
    "colab": {
     "base_uri": "https://localhost:8080/"
    },
    "id": "AuSfLhm2fGK8",
    "outputId": "63cdb42d-1d33-4866-bb63-9c0f37314e21"
   },
   "outputs": [
    {
     "data": {
      "text/plain": [
       "array([[ 0,  0,  0],\n",
       "       [ 0,  1,  2],\n",
       "       [ 0,  2,  4],\n",
       "       [ 0,  3,  6],\n",
       "       [ 0,  4,  8],\n",
       "       [ 0,  5, 10],\n",
       "       [ 0,  6, 12],\n",
       "       [ 0,  7, 14],\n",
       "       [ 0,  8, 16]])"
      ]
     },
     "execution_count": 42,
     "metadata": {},
     "output_type": "execute_result"
    }
   ],
   "source": [
    "# outer product of 2 vectors\n",
    "np.outer(a,b)"
   ]
  },
  {
   "cell_type": "markdown",
   "metadata": {
    "id": "bQda4F4EfGK_"
   },
   "source": [
    "#### Solving linear equations\n",
    "An example: Solve three linear equations with 3 unknowns as follows:<br>\n",
    "$x_1 + 2x_2 + 3x_3 = 10$<br>\n",
    "$4x_1 + 4x_2 + 5x_3=4$<br>\n",
    "$3x_1 + 8x_2 + 9x_3 = 3$<br>\n",
    "\n",
    "We have a linear equation to solve as in the form $Ax = B$ where\n",
    "\\begin{equation*}\n",
    "A =\n",
    "\\begin{pmatrix}\n",
    "1 & 2 & 3 \\\\\n",
    "4 & 4 & 5 \\\\\n",
    "3 & 8 & 9\n",
    "\\end{pmatrix}\n",
    ",\n",
    "B =\n",
    "\\begin{pmatrix}\n",
    "10 \\\\\n",
    "4 \\\\\n",
    "3\n",
    "\\end{pmatrix}\n",
    ",\n",
    "x =\n",
    "\\begin{pmatrix}\n",
    "x_1 \\\\\n",
    "x_2 \\\\\n",
    "x_3\n",
    "\\end{pmatrix}\n",
    "\\end{equation*}\n",
    "\n",
    "<br>\n",
    "In simple cases with small matrices, we can do $x = A^{-1}B$"
   ]
  },
  {
   "cell_type": "code",
   "execution_count": 43,
   "metadata": {
    "colab": {
     "base_uri": "https://localhost:8080/"
    },
    "id": "PLS1GVLMfGLA",
    "outputId": "61225efd-35e5-4be9-e1eb-e83a644b6e30"
   },
   "outputs": [
    {
     "data": {
      "text/plain": [
       "array([[-2.85714286e-01,  4.28571429e-01, -1.42857143e-01],\n",
       "       [-1.50000000e+00, -8.32667268e-18,  5.00000000e-01],\n",
       "       [ 1.42857143e+00, -1.42857143e-01, -2.85714286e-01]])"
      ]
     },
     "execution_count": 43,
     "metadata": {},
     "output_type": "execute_result"
    }
   ],
   "source": [
    "A = np.array([[1,2,3],[4,4,5],[3,8,9]])\n",
    "B = np.array([10,4,3])\n",
    "A_inv = np.linalg.inv(A)\n",
    "A_inv"
   ]
  },
  {
   "cell_type": "code",
   "execution_count": 44,
   "metadata": {
    "id": "2_Rev7MEfGLC"
   },
   "outputs": [],
   "source": [
    "x = np.dot(A_inv, B)"
   ]
  },
  {
   "cell_type": "code",
   "execution_count": 45,
   "metadata": {
    "colab": {
     "base_uri": "https://localhost:8080/"
    },
    "id": "e-oPmxrSfGLF",
    "outputId": "f491f68a-04e3-4296-b2b5-933795f2c8c8"
   },
   "outputs": [
    {
     "data": {
      "text/plain": [
       "True"
      ]
     },
     "execution_count": 45,
     "metadata": {},
     "output_type": "execute_result"
    }
   ],
   "source": [
    "# check results with allclose() function)\n",
    "np.allclose(np.dot(A,x),B)"
   ]
  },
  {
   "cell_type": "markdown",
   "metadata": {
    "id": "Vbt-t8rpEP7R"
   },
   "source": [
    "-----"
   ]
  },
  {
   "cell_type": "markdown",
   "metadata": {
    "id": "77y-VVzxfGLH"
   },
   "source": [
    "\n",
    "## <font color='#008DFF'> **Question 1**\n",
    "\n",
    "Write code for solving four linear equations with 4 unknowns as follows:<br>\n",
    "$x_1 + 2x_2 + 3x_3 + 9x_4 = 10$<br>\n",
    "$4x_1 + 4x_2 + x_3 + 3x_4=4$<br>\n",
    "$3x_1 + 8x_2 + 9x_3 + x_4= 3$<br>\n",
    "$x_1 + x_2 + 3x_3 = 7$<br><br>\n",
    "\n",
    "Afterwards, check results with allclose( ) function, and print out array $x = [x_1, x_2, x_3, x_4]$ and round each element of the array '$x$' to two decimal places.\n",
    "\n",
    "<b>Expected result</b><br>x = array([ 3.59, -3.75,        2.39,  0.75      ])\n"
   ]
  },
  {
   "cell_type": "code",
   "execution_count": 46,
   "metadata": {
    "colab": {
     "base_uri": "https://localhost:8080/"
    },
    "id": "A0wIhEbW04b7",
    "outputId": "f282fd9f-c99c-4ff2-dffb-05d5058bbafd"
   },
   "outputs": [
    {
     "name": "stdout",
     "output_type": "stream",
     "text": [
      "Results after solving the system of linear equations:\n",
      "x = array([ 3.59 -3.75  2.39  0.75])\n",
      "The solution satisfies the original equations.\n"
     ]
    }
   ],
   "source": [
    "# your code here\n",
    "import numpy as np\n",
    "\n",
    "# Define the coefficient matrix A and the constants vector B\n",
    "A = np.array([[1,2,3,9],[4,4,1,3],[3,8,9,1],[1,1,3,0]])\n",
    "B = np.array([10,4,3,7])\n",
    "\n",
    "# Solve the system of linear equations\n",
    "A_inv = np.linalg.inv(A)\n",
    "A_inv\n",
    "\n",
    "x = np.dot(A_inv, B)\n",
    "x\n",
    "\n",
    "# check results with allclose() function)\n",
    "result_check=np.allclose(np.dot(A,x),B)\n",
    "\n",
    "# Round each element of the array 'x' to two decimal places\n",
    "x_rounded = np.round(x, 2)\n",
    "\n",
    "print(\"Results after solving the system of linear equations:\")\n",
    "print(f\"x = array({x_rounded})\")\n",
    "\n",
    "if result_check:\n",
    "    print(\"The solution satisfies the original equations.\")\n",
    "else:\n",
    "    print(\"The solution does not satisfy the original equations.\")\n"
   ]
  },
  {
   "cell_type": "code",
   "execution_count": 47,
   "metadata": {
    "id": "77c5jSREdt9K"
   },
   "outputs": [],
   "source": [
    "# Grader's area\n",
    "#\n",
    "# Here we have only part, so this grade is assigned in M[1,1]\n",
    "# assign the grade and then uncomment the following\n",
    "\n",
    "# M[1,1] =\n",
    "\n",
    "maxScore = maxScore + 4;"
   ]
  },
  {
   "cell_type": "markdown",
   "metadata": {
    "id": "DKD1e5IvkXJz"
   },
   "source": [
    "-----------------\n",
    "-----------------\n",
    "-----------------\n",
    "-----------------"
   ]
  },
  {
   "cell_type": "markdown",
   "metadata": {
    "id": "hH8NLj_UfGLK"
   },
   "source": [
    "## **Part 2: Exploring some data**"
   ]
  },
  {
   "cell_type": "markdown",
   "metadata": {
    "id": "Wq8IS0kDeOLz"
   },
   "source": [
    "In this exercising we will be using the 'breast cancer wisconsin' dataset, see more details from https://archive.ics.uci.edu/dataset/17/breast+cancer+wisconsin+diagnostic"
   ]
  },
  {
   "cell_type": "code",
   "execution_count": 48,
   "metadata": {
    "colab": {
     "base_uri": "https://localhost:8080/"
    },
    "id": "knlg41kx81E5",
    "outputId": "f4d721a0-e7d0-4218-8c61-c87f09e3fce3"
   },
   "outputs": [
    {
     "name": "stdout",
     "output_type": "stream",
     "text": [
      "Data size: \n",
      " (569, 30)\n",
      "Features: \n",
      " ['mean radius' 'mean texture' 'mean perimeter' 'mean area'\n",
      " 'mean smoothness' 'mean compactness' 'mean concavity'\n",
      " 'mean concave points' 'mean symmetry' 'mean fractal dimension'\n",
      " 'radius error' 'texture error' 'perimeter error' 'area error'\n",
      " 'smoothness error' 'compactness error' 'concavity error'\n",
      " 'concave points error' 'symmetry error' 'fractal dimension error'\n",
      " 'worst radius' 'worst texture' 'worst perimeter' 'worst area'\n",
      " 'worst smoothness' 'worst compactness' 'worst concavity'\n",
      " 'worst concave points' 'worst symmetry' 'worst fractal dimension']\n"
     ]
    }
   ],
   "source": [
    "from sklearn.datasets import load_breast_cancer\n",
    "ds = load_breast_cancer()\n",
    "samples, label, feature_names = ds.data, ds.target, ds.feature_names\n",
    "print('Data size: \\n {}'.format(samples.shape))\n",
    "print('Features: \\n {}'.format(feature_names))"
   ]
  },
  {
   "cell_type": "code",
   "execution_count": 49,
   "metadata": {
    "colab": {
     "base_uri": "https://localhost:8080/"
    },
    "id": "QW9-EOe68_-k",
    "outputId": "7c9677b8-84e3-470c-af09-aa7101f031e1"
   },
   "outputs": [
    {
     "name": "stdout",
     "output_type": "stream",
     "text": [
      ".. _breast_cancer_dataset:\n",
      "\n",
      "Breast cancer wisconsin (diagnostic) dataset\n",
      "--------------------------------------------\n",
      "\n",
      "**Data Set Characteristics:**\n",
      "\n",
      "    :Number of Instances: 569\n",
      "\n",
      "    :Number of Attributes: 30 numeric, predictive attributes and the class\n",
      "\n",
      "    :Attribute Information:\n",
      "        - radius (mean of distances from center to points on the perimeter)\n",
      "        - texture (standard deviation of gray-scale values)\n",
      "        - perimeter\n",
      "        - area\n",
      "        - smoothness (local variation in radius lengths)\n",
      "        - compactness (perimeter^2 / area - 1.0)\n",
      "        - concavity (severity of concave portions of the contour)\n",
      "        - concave points (number of concave portions of the contour)\n",
      "        - symmetry\n",
      "        - fractal dimension (\"coastline approximation\" - 1)\n",
      "\n",
      "        The mean, standard error, and \"worst\" or largest (mean of the three\n",
      "        worst/largest values) of these features were computed for each image,\n",
      "        resulting in 30 features.  For instance, field 0 is Mean Radius, field\n",
      "        10 is Radius SE, field 20 is Worst Radius.\n",
      "\n",
      "        - class:\n",
      "                - WDBC-Malignant\n",
      "                - WDBC-Benign\n",
      "\n",
      "    :Summary Statistics:\n",
      "\n",
      "    ===================================== ====== ======\n",
      "                                           Min    Max\n",
      "    ===================================== ====== ======\n",
      "    radius (mean):                        6.981  28.11\n",
      "    texture (mean):                       9.71   39.28\n",
      "    perimeter (mean):                     43.79  188.5\n",
      "    area (mean):                          143.5  2501.0\n",
      "    smoothness (mean):                    0.053  0.163\n",
      "    compactness (mean):                   0.019  0.345\n",
      "    concavity (mean):                     0.0    0.427\n",
      "    concave points (mean):                0.0    0.201\n",
      "    symmetry (mean):                      0.106  0.304\n",
      "    fractal dimension (mean):             0.05   0.097\n",
      "    radius (standard error):              0.112  2.873\n",
      "    texture (standard error):             0.36   4.885\n",
      "    perimeter (standard error):           0.757  21.98\n",
      "    area (standard error):                6.802  542.2\n",
      "    smoothness (standard error):          0.002  0.031\n",
      "    compactness (standard error):         0.002  0.135\n",
      "    concavity (standard error):           0.0    0.396\n",
      "    concave points (standard error):      0.0    0.053\n",
      "    symmetry (standard error):            0.008  0.079\n",
      "    fractal dimension (standard error):   0.001  0.03\n",
      "    radius (worst):                       7.93   36.04\n",
      "    texture (worst):                      12.02  49.54\n",
      "    perimeter (worst):                    50.41  251.2\n",
      "    area (worst):                         185.2  4254.0\n",
      "    smoothness (worst):                   0.071  0.223\n",
      "    compactness (worst):                  0.027  1.058\n",
      "    concavity (worst):                    0.0    1.252\n",
      "    concave points (worst):               0.0    0.291\n",
      "    symmetry (worst):                     0.156  0.664\n",
      "    fractal dimension (worst):            0.055  0.208\n",
      "    ===================================== ====== ======\n",
      "\n",
      "    :Missing Attribute Values: None\n",
      "\n",
      "    :Class Distribution: 212 - Malignant, 357 - Benign\n",
      "\n",
      "    :Creator:  Dr. William H. Wolberg, W. Nick Street, Olvi L. Mangasarian\n",
      "\n",
      "    :Donor: Nick Street\n",
      "\n",
      "    :Date: November, 1995\n",
      "\n",
      "This is a copy of UCI ML Breast Cancer Wisconsin (Diagnostic) datasets.\n",
      "https://goo.gl/U2Uwz2\n",
      "\n",
      "Features are computed from a digitized image of a fine needle\n",
      "aspirate (FNA) of a breast mass.  They describe\n",
      "characteristics of the cell nuclei present in the image.\n",
      "\n",
      "Separating plane described above was obtained using\n",
      "Multisurface Method-Tree (MSM-T) [K. P. Bennett, \"Decision Tree\n",
      "Construction Via Linear Programming.\" Proceedings of the 4th\n",
      "Midwest Artificial Intelligence and Cognitive Science Society,\n",
      "pp. 97-101, 1992], a classification method which uses linear\n",
      "programming to construct a decision tree.  Relevant features\n",
      "were selected using an exhaustive search in the space of 1-4\n",
      "features and 1-3 separating planes.\n",
      "\n",
      "The actual linear program used to obtain the separating plane\n",
      "in the 3-dimensional space is that described in:\n",
      "[K. P. Bennett and O. L. Mangasarian: \"Robust Linear\n",
      "Programming Discrimination of Two Linearly Inseparable Sets\",\n",
      "Optimization Methods and Software 1, 1992, 23-34].\n",
      "\n",
      "This database is also available through the UW CS ftp server:\n",
      "\n",
      "ftp ftp.cs.wisc.edu\n",
      "cd math-prog/cpo-dataset/machine-learn/WDBC/\n",
      "\n",
      ".. topic:: References\n",
      "\n",
      "   - W.N. Street, W.H. Wolberg and O.L. Mangasarian. Nuclear feature extraction \n",
      "     for breast tumor diagnosis. IS&T/SPIE 1993 International Symposium on \n",
      "     Electronic Imaging: Science and Technology, volume 1905, pages 861-870,\n",
      "     San Jose, CA, 1993.\n",
      "   - O.L. Mangasarian, W.N. Street and W.H. Wolberg. Breast cancer diagnosis and \n",
      "     prognosis via linear programming. Operations Research, 43(4), pages 570-577, \n",
      "     July-August 1995.\n",
      "   - W.H. Wolberg, W.N. Street, and O.L. Mangasarian. Machine learning techniques\n",
      "     to diagnose breast cancer from fine-needle aspirates. Cancer Letters 77 (1994) \n",
      "     163-171.\n"
     ]
    }
   ],
   "source": [
    "# Data description\n",
    "print(ds.DESCR)\n"
   ]
  },
  {
   "cell_type": "code",
   "execution_count": 50,
   "metadata": {
    "colab": {
     "base_uri": "https://localhost:8080/"
    },
    "id": "rR8jIWSafGLR",
    "outputId": "b269ca3a-5b64-4bbb-94e4-a23b99998301"
   },
   "outputs": [
    {
     "data": {
      "text/plain": [
       "False"
      ]
     },
     "execution_count": 50,
     "metadata": {},
     "output_type": "execute_result"
    }
   ],
   "source": [
    "# check to see if there is any null data\n",
    "np.isnan(np.sum(samples))"
   ]
  },
  {
   "cell_type": "code",
   "execution_count": 51,
   "metadata": {
    "id": "HoAcjJzPe2r3"
   },
   "outputs": [],
   "source": [
    "# set print options to make things look nicer\n",
    "np.set_printoptions(suppress=True, linewidth=125)"
   ]
  },
  {
   "cell_type": "code",
   "execution_count": 52,
   "metadata": {
    "colab": {
     "base_uri": "https://localhost:8080/",
     "height": 196
    },
    "id": "hwXoQA_rfGLY",
    "outputId": "f19911de-d5d0-4fef-84fc-7ea36110a6f6"
   },
   "outputs": [
    {
     "data": {
      "text/html": [
       "<div>\n",
       "<style scoped>\n",
       "    .dataframe tbody tr th:only-of-type {\n",
       "        vertical-align: middle;\n",
       "    }\n",
       "\n",
       "    .dataframe tbody tr th {\n",
       "        vertical-align: top;\n",
       "    }\n",
       "\n",
       "    .dataframe thead th {\n",
       "        text-align: right;\n",
       "    }\n",
       "</style>\n",
       "<table border=\"1\" class=\"dataframe\">\n",
       "  <thead>\n",
       "    <tr style=\"text-align: right;\">\n",
       "      <th></th>\n",
       "      <th></th>\n",
       "      <th>mean radius</th>\n",
       "      <th>mean texture</th>\n",
       "      <th>mean perimeter</th>\n",
       "      <th>mean area</th>\n",
       "      <th>mean smoothness</th>\n",
       "      <th>mean compactness</th>\n",
       "      <th>mean concavity</th>\n",
       "      <th>mean concave points</th>\n",
       "      <th>mean symmetry</th>\n",
       "      <th>...</th>\n",
       "      <th>worst radius</th>\n",
       "      <th>worst texture</th>\n",
       "      <th>worst perimeter</th>\n",
       "      <th>worst area</th>\n",
       "      <th>worst smoothness</th>\n",
       "      <th>worst compactness</th>\n",
       "      <th>worst concavity</th>\n",
       "      <th>worst concave points</th>\n",
       "      <th>worst symmetry</th>\n",
       "      <th>worst fractal dimension</th>\n",
       "    </tr>\n",
       "  </thead>\n",
       "  <tbody>\n",
       "    <tr>\n",
       "      <th>0</th>\n",
       "      <td>median</td>\n",
       "      <td>13.4</td>\n",
       "      <td>18.8</td>\n",
       "      <td>86.2</td>\n",
       "      <td>551.1</td>\n",
       "      <td>0.1</td>\n",
       "      <td>0.1</td>\n",
       "      <td>0.1</td>\n",
       "      <td>0.0</td>\n",
       "      <td>0.2</td>\n",
       "      <td>...</td>\n",
       "      <td>15.0</td>\n",
       "      <td>25.4</td>\n",
       "      <td>97.7</td>\n",
       "      <td>686.5</td>\n",
       "      <td>0.1</td>\n",
       "      <td>0.2</td>\n",
       "      <td>0.2</td>\n",
       "      <td>0.1</td>\n",
       "      <td>0.3</td>\n",
       "      <td>0.1</td>\n",
       "    </tr>\n",
       "    <tr>\n",
       "      <th>1</th>\n",
       "      <td>variance</td>\n",
       "      <td>12.4</td>\n",
       "      <td>18.5</td>\n",
       "      <td>589.4</td>\n",
       "      <td>123625.9</td>\n",
       "      <td>0.0</td>\n",
       "      <td>0.0</td>\n",
       "      <td>0.0</td>\n",
       "      <td>0.0</td>\n",
       "      <td>0.0</td>\n",
       "      <td>...</td>\n",
       "      <td>23.3</td>\n",
       "      <td>37.7</td>\n",
       "      <td>1127.1</td>\n",
       "      <td>323597.7</td>\n",
       "      <td>0.0</td>\n",
       "      <td>0.0</td>\n",
       "      <td>0.0</td>\n",
       "      <td>0.0</td>\n",
       "      <td>0.0</td>\n",
       "      <td>0.0</td>\n",
       "    </tr>\n",
       "  </tbody>\n",
       "</table>\n",
       "<p>2 rows × 31 columns</p>\n",
       "</div>"
      ],
      "text/plain": [
       "             mean radius  mean texture  mean perimeter  mean area  \\\n",
       "0    median         13.4          18.8            86.2      551.1   \n",
       "1  variance         12.4          18.5           589.4   123625.9   \n",
       "\n",
       "   mean smoothness  mean compactness  mean concavity  mean concave points  \\\n",
       "0              0.1               0.1             0.1                  0.0   \n",
       "1              0.0               0.0             0.0                  0.0   \n",
       "\n",
       "   mean symmetry  ...  worst radius  worst texture  worst perimeter  \\\n",
       "0            0.2  ...          15.0           25.4             97.7   \n",
       "1            0.0  ...          23.3           37.7           1127.1   \n",
       "\n",
       "   worst area  worst smoothness  worst compactness  worst concavity  \\\n",
       "0       686.5               0.1                0.2              0.2   \n",
       "1    323597.7               0.0                0.0              0.0   \n",
       "\n",
       "   worst concave points  worst symmetry  worst fractal dimension  \n",
       "0                   0.1             0.3                      0.1  \n",
       "1                   0.0             0.0                      0.0  \n",
       "\n",
       "[2 rows x 31 columns]"
      ]
     },
     "execution_count": 52,
     "metadata": {},
     "output_type": "execute_result"
    }
   ],
   "source": [
    "# find median, variance of the data and put it out in nice looking format\n",
    "median = np.round(np.median(samples, axis=0), decimals=1)\n",
    "variance = np.round(np.var(samples, axis=0), decimals=1)\n",
    "basic_stats = np.vstack((median, variance))\n",
    "basic_stats_label = ['median','variance']\n",
    "\n",
    "import pandas as pd\n",
    "# Display final results with a pandas DataFrame\n",
    "df = pd.DataFrame(basic_stats, columns= feature_names)\n",
    "df.insert(0, ' ', basic_stats_label)\n",
    "df\n"
   ]
  },
  {
   "cell_type": "code",
   "execution_count": null,
   "metadata": {
    "id": "lsnAd4p0Q_va"
   },
   "outputs": [],
   "source": []
  },
  {
   "cell_type": "markdown",
   "metadata": {
    "id": "VS5mKl2lfGLb"
   },
   "source": [
    "## <font color='#008DFF'>  **Question 2**\n",
    "\n",
    "Use function <code>stats.describe</code> to retrieve the max, min, and average of samples; then display it as in the expected output <br><br>\n",
    "\n",
    "<b>Expected Output:</b> Something that looks like the following or better: <br>\n",
    "<code>\t['mean radius' 'mean texture' 'mean perimeter' 'mean area' 'mean smoothness' 'mean compactness' 'mean concavity' 'mean concave points' 'mean symmetry' 'mean fractal dimension' 'radius error' 'texture error' 'perimeter error'\n",
    " 'area error' 'smoothness error' 'compactness error' 'concavity error' 'concave points error' 'symmetry error' 'fractal dimension error' 'worst radius' 'worst texture' 'worst perimeter' 'worst area' 'worst smoothness'\n",
    " 'worst compactness' 'worst concavity' 'worst concave points' 'worst symmetry' 'worst fractal dimension'],\n",
    "min [  6.98   9.71  43.79 143.5    0.05   0.02   0.     0.     0.11   0.05   0.11   0.36   0.76   6.8    0.     0.     0.     0.     0.01   0.     7.93  12.02  50.41 185.2    0.07   0.03   0.     0.     0.16   0.06],\n",
    "max [  28.11   39.28  188.5  2501.      0.16    0.35    0.43    0.2     0.3     0.1     2.87    4.88   21.98  542.2     0.03    0.14    0.4     0.05    0.08    0.03   36.04   49.54  251.2  4254.      0.22    1.06    1.25    0.29 0.66    0.21],\n",
    "mean [ 14.13  19.29  91.97 654.89   0.1    0.1    0.09   0.05   0.18   0.06   0.41   1.22   2.87  40.34   0.01   0.03   0.03   0.01   0.02   0.    16.27  25.68 107.26 880.58   0.13   0.25   0.27   0.11   0.29   0.08]\n",
    "</code>\n",
    "\n",
    "<b>Answer</b>:"
   ]
  },
  {
   "cell_type": "code",
   "execution_count": 53,
   "metadata": {
    "colab": {
     "base_uri": "https://localhost:8080/"
    },
    "id": "OkNtSOsIfGLb",
    "outputId": "f394df33-8f8d-4c44-9eb3-c46726c81c17"
   },
   "outputs": [
    {
     "name": "stdout",
     "output_type": "stream",
     "text": [
      "['mean radius' 'mean texture' 'mean perimeter' 'mean area' 'mean smoothness' 'mean compactness' 'mean concavity' 'mean concave points' 'mean symmetry' 'mean fractal dimension' 'radius error' 'texture error' 'perimeter error' 'area error' 'smoothness error' 'compactness error' 'concavity error' 'concave points error' 'symmetry error' 'fractal dimension error' 'worst radius' 'worst texture' 'worst perimeter' 'worst area' 'worst smoothness' 'worst compactness' 'worst concavity' 'worst concave points' 'worst symmetry' 'worst fractal dimension'], min [6.98, 9.71, 43.79, 143.5, 0.05, 0.02, 0.0, 0.0, 0.11, 0.05, 0.11, 0.36, 0.76, 6.8, 0.0, 0.0, 0.0, 0.0, 0.01, 0.0, 7.93, 12.02, 50.41, 185.2, 0.07, 0.03, 0.0, 0.0, 0.16, 0.06], max [28.11, 39.28, 188.5, 2501.0, 0.16, 0.35, 0.43, 0.2, 0.3, 0.1, 2.87, 4.88, 21.98, 542.2, 0.03, 0.14, 0.4, 0.05, 0.08, 0.03, 36.04, 49.54, 251.2, 4254.0, 0.22, 1.06, 1.25, 0.29, 0.66, 0.21], mean [14.13, 19.29, 91.97, 654.89, 0.1, 0.1, 0.09, 0.05, 0.18, 0.06, 0.41, 1.22, 2.87, 40.34, 0.01, 0.03, 0.03, 0.01, 0.02, 0.0, 16.27, 25.68, 107.26, 880.58, 0.13, 0.25, 0.27, 0.11, 0.29, 0.08]\n"
     ]
    }
   ],
   "source": [
    "# Your code here. Add more cells if needed\n",
    "\n",
    "from scipy import stats\n",
    "\n",
    "# Calculate statistics using stats.describe\n",
    "statistics = stats.describe(samples, axis=0)\n",
    "\n",
    "# Get the feature names\n",
    "feature_names = ds.feature_names\n",
    "\n",
    "# Create lists for min, max, and mean values (rounded to two decimal places)\n",
    "min_values = [round(val, 2) for val in statistics.minmax[0]]\n",
    "max_values = [round(val, 2) for val in statistics.minmax[1]]\n",
    "mean_values = [round(val, 2) for val in statistics.mean]\n",
    "\n",
    "# Create the formatted output string\n",
    "output_string = f\"['{feature_names[0]}'\"\n",
    "for i in range(1, len(feature_names)):\n",
    "    output_string += f\" '{feature_names[i]}'\"\n",
    "\n",
    "output_string += f\"], min {min_values}, max {max_values}, mean {mean_values}\"\n",
    "\n",
    "print(output_string)"
   ]
  },
  {
   "cell_type": "code",
   "execution_count": 54,
   "metadata": {
    "id": "zPnHTf9MfT5X"
   },
   "outputs": [],
   "source": [
    "# Grader's area\n",
    "\n",
    "maxScore = maxScore + 4\n",
    "# M[2,1] ="
   ]
  },
  {
   "cell_type": "markdown",
   "metadata": {
    "id": "l3KaR1wZyRgK"
   },
   "source": [
    "-----------------\n",
    "-----------------\n",
    "-----------------\n",
    "-----------------"
   ]
  },
  {
   "cell_type": "code",
   "execution_count": 55,
   "metadata": {
    "colab": {
     "base_uri": "https://localhost:8080/",
     "height": 408
    },
    "id": "FzOg-yJwfGLe",
    "outputId": "1d00ab6e-6be8-47d5-fda3-5d99db2b3cae"
   },
   "outputs": [
    {
     "data": {
      "image/png": "[encoded data removed]",
      "text/plain": [
       "<Figure size 500x400 with 1 Axes>"
      ]
     },
     "metadata": {},
     "output_type": "display_data"
    },
    {
     "name": "stdout",
     "output_type": "stream",
     "text": [
      "Bin sizes: [ 7.  9. 30. 47. 62. 68. 79. 63. 62. 44. 30. 26. 14. 13.  7.  4.  1.  2.  0.  0.  0.  1.]\n"
     ]
    }
   ],
   "source": [
    "import matplotlib.pyplot as plt\n",
    "\n",
    "# let plot out to see what is the distribution of feature ('mean texture') values based on the breast cancer data\n",
    "plt.figure(figsize=[5,4], dpi = 100)\n",
    "fea_id = 1 #  the index of feature\n",
    "n, bins, patches = plt.hist(samples[:,fea_id],bins='auto')\n",
    "plt.title('Distribution of %s'%(feature_names[fea_id]))\n",
    "plt.show()\n",
    "print('Bin sizes: {}'.format(n))"
   ]
  },
  {
   "cell_type": "markdown",
   "metadata": {
    "id": "53VG7TETfGLg"
   },
   "source": [
    "\n",
    "## <font color='#008DFF'> <b>Question 3</b>\n",
    "\n",
    "Plot out a histgram of feature ('mean symmetry') over all instances in the breast cancer dataset, give the plot a title and also print out the bin sizes <br><br>\n",
    "<b>Answer</b>"
   ]
  },
  {
   "cell_type": "code",
   "execution_count": 56,
   "metadata": {
    "colab": {
     "base_uri": "https://localhost:8080/",
     "height": 504
    },
    "id": "MALZsy3AfGLg",
    "outputId": "a568a1aa-056e-457d-dd3c-e52428592d98"
   },
   "outputs": [
    {
     "data": {
      "image/png": "[encoded data removed]",
      "text/plain": [
       "<Figure size 600x500 with 1 Axes>"
      ]
     },
     "metadata": {},
     "output_type": "display_data"
    },
    {
     "name": "stdout",
     "output_type": "stream",
     "text": [
      "Bin sizes: [ 1.  3.  2. 13. 21. 38. 56. 66. 67. 70. 67. 53. 30. 33. 13.  8. 12.  2.  6.  3.  2.  1.  0.  1.  1.]\n"
     ]
    }
   ],
   "source": [
    "# Your code here, add more cells if necessary\n",
    "import matplotlib.pyplot as plt\n",
    "\n",
    "# Index of the feature 'mean symmetry'\n",
    "fea_id = 8\n",
    "\n",
    "# Create the histogram\n",
    "plt.figure(figsize=[6,5], dpi=100)\n",
    "n, bins, patches = plt.hist(samples[:, fea_id], bins='auto', edgecolor='black')\n",
    "\n",
    "# Add axis labels and title\n",
    "plt.xlabel('Value')\n",
    "plt.ylabel('Frequency')\n",
    "plt.title('Distribution of %s' % (feature_names[fea_id]))\n",
    "\n",
    "# Show the plot\n",
    "plt.show()\n",
    "\n",
    "# Print out the bin sizes\n",
    "print('Bin sizes: {}'.format(n)) #Each number in the array represents the count of data points that fall into a particular range of values. These ranges correspond to the bins on the x-axis of the histogram.\n",
    "\n",
    "\n",
    "\n",
    "\n",
    "\n",
    "\n",
    "\n",
    "\n"
   ]
  },
  {
   "cell_type": "code",
   "execution_count": 57,
   "metadata": {
    "id": "j1X_Blj6trGl"
   },
   "outputs": [],
   "source": [
    "# Grader's area\n",
    "\n",
    "maxScore = maxScore+4\n",
    "# M[3,1] ="
   ]
  },
  {
   "cell_type": "markdown",
   "metadata": {
    "id": "cDbu6VbOxzNJ"
   },
   "source": [
    "------------------\n",
    "------------------\n",
    "------------------\n",
    "------------------\n",
    "\n",
    "\n",
    "\n",
    "\n"
   ]
  },
  {
   "cell_type": "code",
   "execution_count": 58,
   "metadata": {
    "colab": {
     "base_uri": "https://localhost:8080/"
    },
    "id": "yTYkJsHgfGLk",
    "outputId": "9c5223aa-9f61-4528-bef1-bf22bdcc2653"
   },
   "outputs": [
    {
     "name": "stdout",
     "output_type": "stream",
     "text": [
      "There are 4 subjects with area error larger than 200!\n",
      "\n"
     ]
    },
    {
     "data": {
      "text/plain": [
       "array([[  24.25    ,   20.2     ,  166.2     , 1761.      ,    0.1447  ,    0.2867  ,    0.4268  ,    0.2012  ,\n",
       "           0.2655  ,    0.06877 ,    1.509   ,    3.12    ,    9.807   ,  233.      ,    0.02333 ,    0.09806 ,\n",
       "           0.1278  ,    0.01822 ,    0.04547 ,    0.009875,   26.02    ,   23.99    ,  180.9     , 2073.      ,\n",
       "           0.1696  ,    0.4244  ,    0.5803  ,    0.2248  ,    0.3222  ,    0.08009 ],\n",
       "       [  28.11    ,   18.47    ,  188.5     , 2499.      ,    0.1142  ,    0.1516  ,    0.3201  ,    0.1595  ,\n",
       "           0.1648  ,    0.05525 ,    2.873   ,    1.476   ,   21.98    ,  525.6     ,    0.01345 ,    0.02772 ,\n",
       "           0.06389 ,    0.01407 ,    0.04783 ,    0.004476,   28.11    ,   18.47    ,  188.5     , 2499.      ,\n",
       "           0.1142  ,    0.1516  ,    0.3201  ,    0.1595  ,    0.1648  ,    0.05525 ],\n",
       "       [  21.71    ,   17.25    ,  140.9     , 1546.      ,    0.09384 ,    0.08562 ,    0.1168  ,    0.08465 ,\n",
       "           0.1717  ,    0.05054 ,    1.207   ,    1.051   ,    7.733   ,  224.1     ,    0.005568,    0.01112 ,\n",
       "           0.02096 ,    0.01197 ,    0.01263 ,    0.001803,   30.75    ,   26.44    ,  199.5     , 3143.      ,\n",
       "           0.1363  ,    0.1628  ,    0.2861  ,    0.182   ,    0.251   ,    0.06494 ],\n",
       "       [  27.42    ,   26.27    ,  186.9     , 2501.      ,    0.1084  ,    0.1988  ,    0.3635  ,    0.1689  ,\n",
       "           0.2061  ,    0.05623 ,    2.547   ,    1.306   ,   18.65    ,  542.2     ,    0.00765 ,    0.05374 ,\n",
       "           0.08055 ,    0.02598 ,    0.01697 ,    0.004558,   36.04    ,   31.37    ,  251.2     , 4254.      ,\n",
       "           0.1357  ,    0.4256  ,    0.6833  ,    0.2625  ,    0.2641  ,    0.07427 ]])"
      ]
     },
     "execution_count": 58,
     "metadata": {},
     "output_type": "execute_result"
    }
   ],
   "source": [
    "def instances_with_defined_area_err(dataset, area_error):\n",
    "    '''This function will return indices of all house with proportion of owner-occupied units built prior to 1940 greater than age%'''\n",
    "    sub_IDs = []\n",
    "    for id, record in enumerate(dataset):\n",
    "        if record[13] > area_error:\n",
    "            sub_IDs.append(id)\n",
    "    print('There are %d subjects with area error larger than %d!\\n'%(len(sub_IDs), area_error))\n",
    "\n",
    "    return sub_IDs\n",
    "\n",
    "# list out all instances' attributes with area error > 200\n",
    "samples[instances_with_defined_area_err(samples, 200)]"
   ]
  },
  {
   "cell_type": "markdown",
   "metadata": {
    "id": "N3zhYgVKfGLm"
   },
   "source": [
    "\n",
    "## <font color='#008DFF'> **Question 4**\n",
    "\n",
    "Write a function that takes as input the given dataset, and two numbers $a$ and $b$, and returns the ids of instance that <b>perimeter error</b> is either less than $a$ or more than $b$. Demonstrate how the function runs with two specific inputs $a$ and $b$ of your choice. <br><br>\n",
    "<b>Answer</b>\n",
    "\n"
   ]
  },
  {
   "cell_type": "code",
   "execution_count": 59,
   "metadata": {
    "colab": {
     "base_uri": "https://localhost:8080/"
    },
    "id": "6_0OKNXtfGLn",
    "outputId": "f738c4ae-92b9-499d-e612-d6c2764d3020"
   },
   "outputs": [
    {
     "name": "stdout",
     "output_type": "stream",
     "text": [
      "There are 566 subjects with perimetor error larger than 10 and smaller than 12!\n",
      "\n",
      "The IDs of instances with perimeter error outside the range (10.0, 12.0): [0, 1, 2, 3, 4, 5, 6, 7, 8, 9, 10, 11, 13, 14, 15, 16, 17, 18, 19, 20, 21, 22, 23, 24, 25, 26, 27, 28, 29, 30, 31, 32, 33, 34, 35, 36, 37, 38, 39, 40, 41, 42, 43, 44, 45, 46, 47, 48, 49, 50, 51, 52, 53, 54, 55, 56, 57, 58, 59, 60, 61, 62, 63, 64, 65, 66, 67, 68, 69, 70, 71, 72, 73, 74, 75, 76, 77, 78, 79, 80, 81, 82, 83, 84, 85, 86, 87, 88, 89, 90, 91, 92, 93, 94, 95, 96, 97, 98, 99, 100, 101, 102, 103, 104, 105, 106, 107, 109, 110, 111, 112, 113, 114, 115, 116, 117, 118, 119, 120, 121, 122, 123, 124, 125, 126, 127, 128, 129, 130, 131, 132, 133, 134, 135, 136, 137, 138, 139, 140, 141, 142, 143, 144, 145, 146, 147, 148, 149, 150, 151, 152, 153, 154, 155, 156, 157, 158, 159, 160, 161, 162, 163, 164, 165, 166, 167, 168, 169, 170, 171, 172, 173, 174, 175, 176, 177, 178, 179, 180, 181, 182, 183, 184, 185, 186, 187, 188, 189, 190, 191, 192, 193, 194, 195, 196, 197, 198, 199, 200, 201, 202, 203, 204, 205, 206, 207, 208, 209, 210, 211, 212, 213, 214, 215, 216, 217, 218, 219, 220, 221, 222, 223, 224, 225, 226, 227, 228, 229, 230, 231, 232, 233, 234, 235, 236, 237, 238, 239, 240, 241, 242, 243, 244, 245, 246, 247, 248, 249, 250, 251, 252, 253, 254, 255, 256, 257, 259, 260, 261, 262, 263, 264, 265, 266, 267, 268, 269, 270, 271, 272, 273, 274, 275, 276, 277, 278, 279, 280, 281, 282, 283, 284, 285, 286, 287, 288, 289, 290, 291, 292, 293, 294, 295, 296, 297, 298, 299, 300, 301, 302, 303, 304, 305, 306, 307, 308, 309, 310, 311, 312, 313, 314, 315, 316, 317, 318, 319, 320, 321, 322, 323, 324, 325, 326, 327, 328, 329, 330, 331, 332, 333, 334, 335, 336, 337, 338, 339, 340, 341, 342, 343, 344, 345, 346, 347, 348, 349, 350, 351, 352, 353, 354, 355, 356, 357, 358, 359, 360, 361, 362, 363, 364, 365, 366, 367, 368, 369, 370, 371, 372, 373, 374, 375, 376, 377, 378, 379, 380, 381, 382, 383, 384, 385, 386, 387, 388, 389, 390, 391, 392, 393, 394, 395, 396, 397, 398, 399, 400, 401, 402, 403, 404, 405, 406, 407, 408, 409, 410, 411, 412, 413, 414, 415, 416, 417, 418, 419, 420, 421, 422, 423, 424, 425, 426, 427, 428, 429, 430, 431, 432, 433, 434, 435, 436, 437, 438, 439, 440, 441, 442, 443, 444, 445, 446, 447, 448, 449, 450, 451, 452, 453, 454, 455, 456, 457, 458, 459, 460, 461, 462, 463, 464, 465, 466, 467, 468, 469, 470, 471, 472, 473, 474, 475, 476, 477, 478, 479, 480, 481, 482, 483, 484, 485, 486, 487, 488, 489, 490, 491, 492, 493, 494, 495, 496, 497, 498, 499, 500, 501, 502, 503, 504, 505, 506, 507, 508, 509, 510, 511, 512, 513, 514, 515, 516, 517, 518, 519, 520, 521, 522, 523, 524, 525, 526, 527, 528, 529, 530, 531, 532, 533, 534, 535, 536, 537, 538, 539, 540, 541, 542, 543, 544, 545, 546, 547, 548, 549, 550, 551, 552, 553, 554, 555, 556, 557, 558, 559, 560, 561, 562, 563, 564, 565, 566, 567, 568]\n"
     ]
    }
   ],
   "source": [
    "# your code goes here\n",
    "\n",
    "def perimeter_error_outside_range(dataset, a, b):\n",
    "    '''Returns the IDs of instances where perimeter error is either less than a or more than b'''\n",
    "    sub_IDs = []\n",
    "    for id, record in enumerate(dataset):\n",
    "        if record[12] < a or record[12] > b:\n",
    "            sub_IDs.append(id)\n",
    "    print('There are %d subjects with perimetor error larger than %d and smaller than %d!\\n'%(len(sub_IDs),a,b ))\n",
    "\n",
    "    return sub_IDs\n",
    "\n",
    "#Demonstrate how the function runs with two specific inputs  a  and  b  of your choice\n",
    "\n",
    "a = 10.0\n",
    "b = 12.0\n",
    "result_ids = perimeter_error_outside_range(samples, a, b)\n",
    "\n",
    "print(f\"The IDs of instances with perimeter error outside the range ({a}, {b}): {result_ids}\")"
   ]
  },
  {
   "cell_type": "code",
   "execution_count": 60,
   "metadata": {
    "id": "upNrvOZQAqVf"
   },
   "outputs": [],
   "source": [
    "# Grader's area\n",
    "\n",
    "maxScore = maxScore + 4\n",
    "# M[4,1]="
   ]
  },
  {
   "cell_type": "markdown",
   "metadata": {
    "id": "FwAL2fEc2cRP"
   },
   "source": [
    "------------------------------------------\n",
    "------------------------------------------\n",
    "------------------------------------------\n",
    "------------------------------------------"
   ]
  },
  {
   "cell_type": "markdown",
   "metadata": {
    "id": "0h4pDnxJ-06z"
   },
   "source": [
    "## **Part 3: kNN simple implementation**\n",
    "\n",
    "Here we work with a simple implementation of kNN model for regression problems in order to understand how objects and methods work. <b>Problem: predict the \"mean area\" (a continuous feature value) of the cell nuclei based on the other features in the breast cancer dataset.</b>"
   ]
  },
  {
   "cell_type": "markdown",
   "metadata": {
    "id": "5ntY4Cih-qYl"
   },
   "source": [
    "## <font color='#008DFF'> **Question 5**\n",
    "\n"
   ]
  },
  {
   "cell_type": "code",
   "execution_count": 61,
   "metadata": {
    "id": "41lODEI7Gef7"
   },
   "outputs": [],
   "source": [
    "import numpy as np\n",
    "\n",
    "class KNNRegressor:\n",
    "    def __init__(self, k=3):\n",
    "        self.k = k\n",
    "        self.X_train = None\n",
    "        self.y_train = None\n",
    "\n",
    "    def fit(self, X_train, y_train):\n",
    "        \"\"\"Store the training dataset.\"\"\"\n",
    "        self.X_train = X_train\n",
    "        self.y_train = y_train\n",
    "\n",
    "    def predict(self, X_test):\n",
    "        \"\"\"Predict the target for the test data.\"\"\"\n",
    "        y_pred = [self._predict(x) for x in X_test]\n",
    "        return np.array(y_pred)\n",
    "\n",
    "    def _predict(self, x):\n",
    "        \"\"\"Predict the target for a single instance.\"\"\"\n",
    "        # Calculate distances between x and all examples in the training set\n",
    "        distances = [np.sqrt(np.sum((x - x_train)**2)) for x_train in self.X_train]\n",
    "\n",
    "        # Sort by distance and return indices of the first k neighbors\n",
    "        k_indices = np.argsort(distances)[:self.k]\n",
    "\n",
    "        # Extract the y values of the k nearest neighbor training samples\n",
    "        k_nearest_labels = [self.y_train[i] for i in k_indices]\n",
    "\n",
    "        # Return the mean of the k nearest neighbors\n",
    "        return np.mean(k_nearest_labels)"
   ]
  },
  {
   "cell_type": "markdown",
   "metadata": {
    "id": "6eUGohNI_JPS"
   },
   "source": [
    "### <font color='#008DFF'>  **Question 5(i)**\n",
    "\n",
    "Generate training and test datasets based on the original breast cancer dataset. (Note that the <i>target</i> of KNN regressor is the \"mean area\"; while the <i>input</i> of the regressor is the remaining features in the cancer dataset.)"
   ]
  },
  {
   "cell_type": "code",
   "execution_count": 62,
   "metadata": {
    "colab": {
     "base_uri": "https://localhost:8080/"
    },
    "id": "bp4DLWmz8vXn",
    "outputId": "160052a6-57bf-4f46-c6ce-451a18f6f4a0"
   },
   "outputs": [
    {
     "name": "stdout",
     "output_type": "stream",
     "text": [
      "Scaled Training Data:\n",
      "[[-1.44075296 -0.43531947 -1.36208497  0.78057331  0.71892128  2.82313451 -0.11914956  1.09266219  2.45817261 -0.26380039\n",
      "  -0.01605246 -0.47041357 -0.47476088  0.83836493  3.25102691  8.43893667  3.39198733  2.62116574  2.06120787 -1.23286131\n",
      "  -0.47630949 -1.24792009 -0.97396758  0.72289445  1.18673232  4.67282796  0.9320124   2.09724217  1.88645014]\n",
      " [ 1.97409619  1.73302577  2.09167167  1.319843    3.42627493  2.01311199  2.66503199  2.1270036   1.55839569  0.80531919\n",
      "  -0.81268678  0.75195659  0.87716951 -0.89605315  1.18122247  0.18362761  0.60059598 -0.31771686  0.52963649  2.17331385\n",
      "   1.3112795   2.08161691  2.1374055   0.76192793  3.26560084  1.92862053  2.6989469   1.89116053  2.49783848]\n",
      " [-1.39998202 -1.24962228 -1.34520926 -1.33264483 -0.30735463 -0.36555756 -0.69650228  1.93033305  0.95437877  0.02752055\n",
      "   1.96305996 -0.12095781 -0.35077918  0.57276579  0.7394992   0.32065553  0.58946222  2.61504052  0.71892779 -1.29528358\n",
      "  -1.04081128 -1.24522047 -0.99971493 -1.43869328 -0.54856427 -0.64491059 -0.97023893  0.59760192  0.0578942 ]\n",
      " [-0.98179678  1.41622208 -0.98258746  0.05938999 -0.59678772 -0.82020317 -0.84511471  0.31326409  0.07404147 -0.53850473\n",
      "   0.53647286 -0.65795    -0.49659014  0.0654747  -0.82240418 -0.68556537 -0.89848456  0.12329928 -0.43154667 -0.8291973\n",
      "   1.59353039 -0.87357215 -0.74294685  0.79662437 -0.7293916  -0.77494969 -0.80948314  0.79892783 -0.1344968 ]\n",
      " [-1.11769991 -1.0102595  -1.12500192  1.26951116 -0.43900185 -0.98334145 -0.93059974  3.39443604  0.95021314  0.40227808\n",
      "   0.4403815   0.21931447 -0.11553185  0.17191085 -0.78797021 -0.78350919 -0.58864808  2.60401511  0.76598123 -1.08512861\n",
      "  -1.3346163  -1.11713828 -0.89654919 -0.17487574 -0.99507862 -1.20914641 -1.35458167  1.03354385 -0.20573196]]\n",
      "\n",
      "Scaled Test Data:\n",
      "[[-0.46649743 -0.13728933 -0.44421138  0.28085007  0.04160589 -0.11146496 -0.26486866  0.41524141  0.13513744 -0.02091509\n",
      "  -0.29323907 -0.17460869 -0.2072995  -0.01181432 -0.35108921 -0.1810535  -0.24238831 -0.33731758 -0.0842133  -0.2632354\n",
      "  -0.14784208 -0.33154752 -0.35109337  0.48001942 -0.09649594 -0.03583041 -0.19435087  0.17275669  0.20372995]\n",
      " [ 1.36536344  0.49866473  1.30551088 -0.40653902 -0.0137241   0.24063659  0.82144876 -0.83398079 -1.13121527  1.36745547\n",
      "  -0.74874907  1.27009847  1.18638199 -0.83350144 -0.49043919 -0.31559     0.28726031 -0.82243534 -0.76235747  1.79461875\n",
      "   0.17237239  1.76366112  1.7441412  -0.53051417 -0.12362004 -0.02818105  0.99177862 -0.561211   -1.00838949]\n",
      " [ 0.38006578  0.06921974  0.40410139  0.96752014  0.35641445  0.72690205  0.85722095  0.43709369 -0.66605282  0.25555697\n",
      "  -0.77018483  0.11394607  0.17460653 -0.24531887 -0.58082836 -0.14617367 -0.15331827 -0.80895985 -0.48829815  0.62940306\n",
      "   0.07663816  0.53383214  0.49204412  1.00046591 -0.08616295  0.4996247   0.57035018 -0.10783139 -0.20629287]\n",
      " [-0.48631664 -0.35318518 -0.42857048  0.69429016  0.53385201 -0.14472249 -0.53368618  0.00004803  1.14738647 -0.79659246\n",
      "   0.4754918  -0.3162277  -0.52223422  0.98606556  0.3935454   0.491629   -0.03561858  0.15882558  0.78465893 -0.69811054\n",
      "  -0.43339415 -0.52472066 -0.63695948  0.58410872  0.06560285 -0.16395716 -0.62037671 -0.55328478  0.54532215]\n",
      " [-0.72980974 -1.11351403 -0.70928339  0.29451157  0.15989759 -0.2712019  -0.58760751  0.02554236  0.70305219 -0.43703736\n",
      "   1.04464832 -0.59463229 -0.40715377  1.69018167  0.83311655  0.70713653  0.48448682 -0.26626498  0.60757997 -0.82711656\n",
      "  -0.96653473 -0.84957549 -0.73924347  0.12871804 -0.26440703 -0.45367662 -0.68964422 -0.91313503 -0.14178859]]\n",
      "X_train_scaled shape: (455, 29)\n",
      "X_test_scaled shape: (114, 29)\n",
      "y_train shape: (455,)\n",
      "y_test shape: (114,)\n"
     ]
    }
   ],
   "source": [
    "## your code goes here\n",
    "from sklearn.datasets import load_breast_cancer\n",
    "from sklearn.model_selection import train_test_split\n",
    "from sklearn.preprocessing import StandardScaler\n",
    "\n",
    "# Load the breast cancer dataset\n",
    "data = load_breast_cancer()\n",
    "X, y = data.data, data.target\n",
    "\n",
    "# Select \"mean area\" as the target variable\n",
    "y_target = X[:, 3]  # \"mean area\" is the 4th feature (index 3)\n",
    "\n",
    "# Use the remaining features as input\n",
    "X_input = np.delete(X, 3, axis=1)  # Remove the 4th column (mean area)\n",
    "\n",
    "# Split the data into training and test sets\n",
    "X_train, X_test, y_train, y_test = train_test_split(X_input, y_target, test_size=0.2, random_state=42)\n",
    "\n",
    "# Initialize the StandardScaler\n",
    "scaler = StandardScaler()\n",
    "\n",
    "# Fit the scaler on the training data and transform both the training and test data\n",
    "X_train_scaled = scaler.fit_transform(X_train)\n",
    "X_test_scaled = scaler.transform(X_test)\n",
    "\n",
    "# Print the first few rows of the scaled training data\n",
    "print(\"Scaled Training Data:\")\n",
    "print(X_train_scaled[:5])\n",
    "\n",
    "# Print the first few rows of the scaled test data\n",
    "print(\"\\nScaled Test Data:\")\n",
    "print(X_test_scaled[:5])\n",
    "\n",
    "# Print the shapes of the scaled datasets to verify\n",
    "print(\"X_train_scaled shape:\", X_train_scaled.shape)\n",
    "print(\"X_test_scaled shape:\", X_test_scaled.shape)\n",
    "print(\"y_train shape:\", y_train.shape)\n",
    "print(\"y_test shape:\", y_test.shape)"
   ]
  },
  {
   "cell_type": "code",
   "execution_count": 63,
   "metadata": {
    "id": "46gi3zLbM4Ga"
   },
   "outputs": [],
   "source": [
    "# Grader's area\n",
    "\n",
    "maxScore = maxScore + 5\n",
    "#M[5,1] =\n",
    "\n"
   ]
  },
  {
   "cell_type": "markdown",
   "metadata": {
    "id": "knWS8oKD_9QI"
   },
   "source": []
  },
  {
   "cell_type": "markdown",
   "metadata": {
    "id": "SROYKfcm_9gk"
   },
   "source": [
    "### <font color='#008DFF'>  **Question 5(ii)**\n",
    "\n",
    "Initialize a kNN regressor using the class defined above. Then, train the kNN regressor using the training dataset, and predict the mean area with the test dataset."
   ]
  },
  {
   "cell_type": "code",
   "execution_count": 70,
   "metadata": {
    "colab": {
     "base_uri": "https://localhost:8080/"
    },
    "id": "2Ni9kwJLAQUc",
    "outputId": "e2e79135-72d8-449e-f39e-fd9237233660"
   },
   "outputs": [
    {
     "name": "stdout",
     "output_type": "stream",
     "text": [
      "Predicted Mean Areas:\n",
      "[ 497.98 1315.    955.22  368.9   391.25 1334.25 1574.    964.9   536.08  591.78  506.3   965.58  602.72  773.45  470.8\n",
      " 1100.68  641.83  306.68  243.88 1223.25  601.17  377.25 1192.    394.45  486.72  454.28  602.42  443.85  464.88  939.8\n",
      "  390.52  471.92  380.58  568.17  350.15  431.62  768.28  375.52 1020.55  595.12  326.25  721.53  436.72  449.2   378.92\n",
      "  411.48  368.35  386.75  430.82  487.4  1020.55 1099.08  560.67  512.92  374.3   586.08  333.38 1780.75  540.45  395.68\n",
      "  479.08 1152.25 1294.65  572.33  542.58  542.35  760.18 1036.28  376.45  551.5   558.75  748.68  576.18  743.82  263.5\n",
      "  627.62  566.45  603.12  448.02  441.12  925.5   425.3   679.92 1325.5   825.9   622.15  578.9  1010.82  511.15  429.98\n",
      "  459.28  583.3   679.4   440.85  333.95  346.28 1161.65  603.38  421.2   984.82  759.05  320.7  1002.2  1009.42  406.48\n",
      "  473.52  394.6  1613.5   657.    655.05 1014.75  428.78  479.38 1511.  ]\n",
      "MSE for k=1: 111.37777462904651\n",
      "MSE for k=2: 104.4342307098398\n",
      "MSE for k=3: 98.64472357719642\n",
      "MSE for k=4: 93.68287182778448\n",
      "MSE for k=5: 93.8077618569774\n",
      "MSE for k=6: 97.92656657926102\n",
      "MSE for k=7: 100.53531063045132\n",
      "MSE for k=8: 101.19432898342966\n",
      "MSE for k=9: 101.61408250665077\n",
      "MSE for k=10: 102.11488734011077\n",
      "MSE for k=11: 101.12699841024288\n",
      "MSE for k=12: 103.46734314815458\n",
      "MSE for k=13: 105.20216594484931\n",
      "MSE for k=14: 106.74401492576249\n",
      "The best k value is: 4\n"
     ]
    }
   ],
   "source": [
    "## your code goes here\n",
    "import numpy as np\n",
    "from sklearn.model_selection import train_test_split\n",
    "from sklearn.preprocessing import StandardScaler\n",
    "from sklearn.metrics import mean_squared_error\n",
    "\n",
    "# Load the breast cancer dataset\n",
    "from sklearn.datasets import load_breast_cancer\n",
    "data = load_breast_cancer()\n",
    "X, y = data.data, data.target\n",
    "\n",
    "# Select \"mean area\" as the target variable\n",
    "y_target = X[:, 3]  # \"mean area\" is the 4th feature (index 3)\n",
    "\n",
    "# Use the remaining features as input\n",
    "X_input = np.delete(X, 3, axis=1)  # Remove the 4th column (mean area)\n",
    "\n",
    "# Split the data into training and test sets\n",
    "X_train, X_test, y_train, y_test = train_test_split(X_input, y_target, test_size=0.2, random_state=42)\n",
    "\n",
    "# Initialize a StandardScaler\n",
    "scaler = StandardScaler()\n",
    "\n",
    "# Fit the scaler on the training data and transform both the training and test data\n",
    "X_train_scaled = scaler.fit_transform(X_train)\n",
    "X_test_scaled = scaler.transform(X_test)\n",
    "\n",
    "\n",
    "class KNNRegressor:\n",
    "    def __init__(self, k=4):\n",
    "        self.k = k\n",
    "        self.X_train = None\n",
    "        self.y_train = None\n",
    "\n",
    "    def fit(self, X_train, y_train):\n",
    "        \"\"\"Store the training dataset.\"\"\"\n",
    "        self.X_train = X_train\n",
    "        self.y_train = y_train\n",
    "\n",
    "    def predict(self, X_test):\n",
    "        \"\"\"Predict the target for the test data.\"\"\"\n",
    "        y_pred = [self._predict(x) for x in X_test]\n",
    "        return np.array(y_pred)\n",
    "\n",
    "    def _predict(self, x):\n",
    "        \"\"\"Predict the target for a single instance.\"\"\"\n",
    "        # Calculate distances between x and all examples in the training set\n",
    "        distances = [np.sqrt(np.sum((x - x_train)**2)) for x_train in self.X_train]\n",
    "\n",
    "        # Sort by distance and return indices of the first k neighbors\n",
    "        k_indices = np.argsort(distances)[:self.k]\n",
    "\n",
    "        # Extract the y values of the k nearest neighbor training samples\n",
    "        k_nearest_labels = [self.y_train[i] for i in k_indices]\n",
    "\n",
    "        # Return the mean of the k nearest neighbors\n",
    "        return np.mean(k_nearest_labels)\n",
    "\n",
    "\n",
    "# Initialize a kNN regressor with k=4\n",
    "knn_regressor = KNNRegressor(k=4)\n",
    "\n",
    "# Train the kNN regressor using the scaled training dataset\n",
    "knn_regressor.fit(X_train_scaled, y_train)\n",
    "\n",
    "# Predict the mean area with the scaled test dataset\n",
    "y_pred = np.round(knn_regressor.predict(X_test_scaled),2)\n",
    "\n",
    "\n",
    "# Predict the mean area with the scaled test dataset\n",
    "y_pred = np.round(knn_regressor.predict(X_test_scaled),2)\n",
    "\n",
    "# Print the header\n",
    "print(\"Predicted Mean Areas:\")\n",
    "\n",
    "# Print the predicted values\n",
    "print(y_pred)\n",
    "\n",
    "# Split the training data into training and validation sets\n",
    "X_train_scaled, X_val_scaled, y_train, y_val = train_test_split(X_train_scaled, y_train, test_size=0.2, random_state=42)\n",
    "\n",
    "# Define a range of k values\n",
    "k_values = range(1, 15)\n",
    "\n",
    "best_k = None\n",
    "best_rmse = float('inf')\n",
    "\n",
    "for k in k_values:\n",
    "    knn_regressor = KNNRegressor(k=k)\n",
    "    knn_regressor.fit(X_train_scaled, y_train)\n",
    "\n",
    "    y_val_pred = knn_regressor.predict(X_val_scaled)\n",
    "    rmse = np.sqrt(mean_squared_error(y_val, y_val_pred))\n",
    "\n",
    "    # Print the MSE for each k value\n",
    "    print(f\"MSE for k={k}: {rmse}\")\n",
    "\n",
    "    if rmse < best_rmse:\n",
    "        best_rmse = rmse\n",
    "        best_k = k\n",
    "\n",
    "print(f\"The best k value is: {best_k}\")"
   ]
  },
  {
   "cell_type": "code",
   "execution_count": 65,
   "metadata": {
    "id": "701AcFiuAQUc"
   },
   "outputs": [],
   "source": [
    "# Grader's area\n",
    "\n",
    "maxScore = maxScore +5\n",
    "#M[5,2] =\n",
    "\n"
   ]
  },
  {
   "cell_type": "markdown",
   "metadata": {
    "id": "6VchLMyhAaP5"
   },
   "source": [
    "### <font color='#008DFF'>  **Question 5(iii)**\n",
    "\n",
    "Visualize the prediction results with a scatter plot, where <code>x-axis</code> denotes the true 'mean area' values, <code>y_axis</code> is the predicted mean area values for the test dataset. Please add a red \"dashed line\" to represent perfect prediction in the scatter plot."
   ]
  },
  {
   "cell_type": "code",
   "execution_count": 66,
   "metadata": {
    "colab": {
     "base_uri": "https://localhost:8080/",
     "height": 564
    },
    "id": "_2w5NybMB6oT",
    "outputId": "9abb91a1-7021-40e7-8349-a411f4ea3aff"
   },
   "outputs": [
    {
     "data": {
      "image/png": "[encoded data removed]",
      "text/plain": [
       "<Figure size 800x600 with 1 Axes>"
      ]
     },
     "metadata": {},
     "output_type": "display_data"
    }
   ],
   "source": [
    "## your additional code goes here.\n",
    "## Please make a comment about where it should be added in the original code above\n",
    "\n",
    "import matplotlib.pyplot as plt\n",
    "\n",
    "# Create a scatter plot\n",
    "plt.figure(figsize=(8, 6))\n",
    "plt.scatter(y_test, y_pred, color='blue', label='Predicted Mean Area')\n",
    "\n",
    "# Add a red dashed line for perfect prediction\n",
    "plt.plot([min(y_test), max(y_test)], [min(y_test), max(y_test)], color='red', linestyle='--', label='Perfect Prediction')\n",
    "\n",
    "# Add labels and title\n",
    "plt.xlabel('True Mean Area')\n",
    "plt.ylabel('Predicted Mean Area')\n",
    "plt.title('KNN Regressor: True vs. Predicted Mean Area')\n",
    "\n",
    "# Add legend\n",
    "plt.legend()\n",
    "\n",
    "# Show the plot\n",
    "plt.show()"
   ]
  },
  {
   "cell_type": "code",
   "execution_count": 71,
   "metadata": {
    "colab": {
     "base_uri": "https://localhost:8080/",
     "height": 963
    },
    "id": "K74klxKgAIKY",
    "outputId": "5ffd7fec-c9c6-4800-98ff-21b128de28bc"
   },
   "outputs": [
    {
     "name": "stdout",
     "output_type": "stream",
     "text": [
      "Predicted Mean Areas:\n",
      "[ 497.98 1315.    955.22  368.9   391.25 1334.25 1574.    964.9   536.08  591.78  506.3   965.58  602.72  773.45  470.8\n",
      " 1100.68  641.83  306.68  243.88 1223.25  601.17  377.25 1192.    394.45  486.72  454.28  602.42  443.85  464.88  939.8\n",
      "  390.52  471.92  380.58  568.17  350.15  431.62  768.28  375.52 1020.55  595.12  326.25  721.53  436.72  449.2   378.92\n",
      "  411.48  368.35  386.75  430.82  487.4  1020.55 1099.08  560.67  512.92  374.3   586.08  333.38 1780.75  540.45  395.68\n",
      "  479.08 1152.25 1294.65  572.33  542.58  542.35  760.18 1036.28  376.45  551.5   558.75  748.68  576.18  743.82  263.5\n",
      "  627.62  566.45  603.12  448.02  441.12  925.5   425.3   679.92 1325.5   825.9   622.15  578.9  1010.82  511.15  429.98\n",
      "  459.28  583.3   679.4   440.85  333.95  346.28 1161.65  603.38  421.2   984.82  759.05  320.7  1002.2  1009.42  406.48\n",
      "  473.52  394.6  1613.5   657.    655.05 1014.75  428.78  479.38 1511.  ]\n",
      "MSE for k=1: 111.37777462904651\n",
      "MSE for k=2: 104.4342307098398\n",
      "MSE for k=3: 98.64472357719642\n",
      "MSE for k=4: 93.68287182778448\n",
      "MSE for k=5: 93.8077618569774\n",
      "MSE for k=6: 97.92656657926102\n",
      "MSE for k=7: 100.53531063045132\n",
      "MSE for k=8: 101.19432898342966\n",
      "MSE for k=9: 101.61408250665077\n",
      "MSE for k=10: 102.11488734011077\n",
      "MSE for k=11: 101.12699841024288\n",
      "MSE for k=12: 103.46734314815458\n",
      "MSE for k=13: 105.20216594484931\n",
      "MSE for k=14: 106.74401492576249\n",
      "The best k value is: 4\n"
     ]
    },
    {
     "data": {
      "image/png": "[encoded data removed]",
      "text/plain": [
       "<Figure size 800x600 with 1 Axes>"
      ]
     },
     "metadata": {},
     "output_type": "display_data"
    }
   ],
   "source": [
    "# This block of code should be added at the last of in the original code above like this way:\n",
    "import numpy as np\n",
    "from sklearn.model_selection import train_test_split\n",
    "from sklearn.preprocessing import StandardScaler\n",
    "from sklearn.metrics import mean_squared_error\n",
    "import matplotlib.pyplot as plt\n",
    "\n",
    "\n",
    "# Load the breast cancer dataset\n",
    "from sklearn.datasets import load_breast_cancer\n",
    "data = load_breast_cancer()\n",
    "X, y = data.data, data.target\n",
    "\n",
    "# Select \"mean area\" as the target variable\n",
    "y_target = X[:, 3]  # \"mean area\" is the 4th feature (index 3)\n",
    "\n",
    "# Use the remaining features as input\n",
    "X_input = np.delete(X, 3, axis=1)  # Remove the 4th column (mean area)\n",
    "\n",
    "# Split the data into training and test sets\n",
    "X_train, X_test, y_train, y_test = train_test_split(X_input, y_target, test_size=0.2, random_state=42)\n",
    "\n",
    "# Initialize a StandardScaler\n",
    "scaler = StandardScaler()\n",
    "\n",
    "# Fit the scaler on the training data and transform both the training and test data\n",
    "X_train_scaled = scaler.fit_transform(X_train)\n",
    "X_test_scaled = scaler.transform(X_test)\n",
    "\n",
    "\n",
    "class KNNRegressor:\n",
    "    def __init__(self, k=4):\n",
    "        self.k = k\n",
    "        self.X_train = None\n",
    "        self.y_train = None\n",
    "\n",
    "    def fit(self, X_train, y_train):\n",
    "        \"\"\"Store the training dataset.\"\"\"\n",
    "        self.X_train = X_train\n",
    "        self.y_train = y_train\n",
    "\n",
    "    def predict(self, X_test):\n",
    "        \"\"\"Predict the target for the test data.\"\"\"\n",
    "        y_pred = [self._predict(x) for x in X_test]\n",
    "        return np.array(y_pred)\n",
    "\n",
    "    def _predict(self, x):\n",
    "        \"\"\"Predict the target for a single instance.\"\"\"\n",
    "        # Calculate distances between x and all examples in the training set\n",
    "        distances = [np.sqrt(np.sum((x - x_train)**2)) for x_train in self.X_train]\n",
    "\n",
    "        # Sort by distance and return indices of the first k neighbors\n",
    "        k_indices = np.argsort(distances)[:self.k]\n",
    "\n",
    "        # Extract the y values of the k nearest neighbor training samples\n",
    "        k_nearest_labels = [self.y_train[i] for i in k_indices]\n",
    "\n",
    "        # Return the mean of the k nearest neighbors\n",
    "        return np.mean(k_nearest_labels)\n",
    "\n",
    "\n",
    "# Initialize a kNN regressor with k=4\n",
    "knn_regressor = KNNRegressor(k=4)\n",
    "\n",
    "# Train the kNN regressor using the scaled training dataset\n",
    "knn_regressor.fit(X_train_scaled, y_train)\n",
    "\n",
    "# Predict the mean area with the scaled test dataset\n",
    "y_pred = np.round(knn_regressor.predict(X_test_scaled),2)\n",
    "\n",
    "# Predict the mean area with the scaled test dataset\n",
    "y_pred = np.round(knn_regressor.predict(X_test_scaled),2)\n",
    "\n",
    "# Print the header\n",
    "print(\"Predicted Mean Areas:\")\n",
    "\n",
    "# Print the predicted values\n",
    "print(y_pred)\n",
    "# Split the training data into training and validation sets\n",
    "X_train_scaled, X_val_scaled, y_train, y_val = train_test_split(X_train_scaled, y_train, test_size=0.2, random_state=42)\n",
    "\n",
    "# Define a range of k values\n",
    "k_values = range(1, 15)\n",
    "\n",
    "best_k = None\n",
    "best_rmse = float('inf')\n",
    "\n",
    "for k in k_values:\n",
    "    knn_regressor = KNNRegressor(k=k)\n",
    "    knn_regressor.fit(X_train_scaled, y_train)\n",
    "\n",
    "    y_val_pred = knn_regressor.predict(X_val_scaled)\n",
    "    rmse = np.sqrt(mean_squared_error(y_val, y_val_pred))\n",
    "\n",
    "    # Print the MSE for each k value\n",
    "    print(f\"MSE for k={k}: {rmse}\")\n",
    "\n",
    "    if rmse < best_rmse:\n",
    "        best_rmse = rmse\n",
    "        best_k = k\n",
    "\n",
    "print(f\"The best k value is: {best_k}\")\n",
    "\n",
    "## Please make a comment about where it should be added in the original code above\n",
    "\n",
    "# Create a scatter plot\n",
    "plt.figure(figsize=(8, 6))\n",
    "plt.scatter(y_test, y_pred, color='blue', label='Predicted Mean Area')\n",
    "\n",
    "# Add a red dashed line for perfect prediction\n",
    "plt.plot([min(y_test), max(y_test)], [min(y_test), max(y_test)], color='red', linestyle='--', label='Perfect Prediction')\n",
    "\n",
    "# Add labels and title\n",
    "plt.xlabel('True Mean Area')\n",
    "plt.ylabel('Predicted Mean Area')\n",
    "plt.title('KNN Regressor: True vs. Predicted Mean Area')\n",
    "\n",
    "# Add legend\n",
    "plt.legend()\n",
    "\n",
    "# Show the plot\n",
    "plt.show()\n"
   ]
  },
  {
   "cell_type": "code",
   "execution_count": 68,
   "metadata": {
    "id": "HsiMfcevAqlW"
   },
   "outputs": [],
   "source": [
    "# Grader's area\n",
    "\n",
    "maxScore = maxScore +5\n",
    "#M[5,3] =\n",
    "\n"
   ]
  },
  {
   "cell_type": "markdown",
   "metadata": {
    "id": "oRMj1OX-B_fn"
   },
   "source": [
    "----------------------\n",
    "----------------------\n",
    "----------------------"
   ]
  },
  {
   "cell_type": "code",
   "execution_count": 69,
   "metadata": {
    "id": "IVkneTzYCAxs"
   },
   "outputs": [],
   "source": [
    "#Grader's area\n",
    "\n",
    "rawScore = np.sum(M)\n",
    "score = rawScore*100/maxScore"
   ]
  },
  {
   "cell_type": "code",
   "execution_count": null,
   "metadata": {
    "id": "fo4TYoEFCSTt"
   },
   "outputs": [],
   "source": []
  }
 ],
 "metadata": {
  "colab": {
   "provenance": []
  },
  "kernelspec": {
   "display_name": "Python 3 (ipykernel)",
   "language": "python",
   "name": "python3"
  },
  "language_info": {
   "codemirror_mode": {
    "name": "ipython",
    "version": 3
   },
   "file_extension": ".py",
   "mimetype": "text/x-python",
   "name": "python",
   "nbconvert_exporter": "python",
   "pygments_lexer": "ipython3",
   "version": "3.11.4"
  }
 },
 "nbformat": 4,
 "nbformat_minor": 1
}
